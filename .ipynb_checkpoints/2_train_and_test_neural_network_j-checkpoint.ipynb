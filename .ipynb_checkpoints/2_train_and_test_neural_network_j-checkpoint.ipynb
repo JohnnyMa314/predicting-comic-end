{
 "cells": [
  {
   "cell_type": "markdown",
   "metadata": {},
   "source": [
    "# 2. 短命作品の学習と予測\n",
    "\n",
    "　目次情報を学習して，短命作品を予測してみます．\n",
    "\n",
    "## 環境構築\n",
    "\n",
    "```bash\n",
    "conda env create -f env.yml\n",
    "```\n",
    "\n",
    "## 問題設定\n",
    "\n",
    "　本記事の目的は，2週目から7週目までの掲載順を入力とし，当該作品が短命作品（10週以内に終了する作品）か否かを予測することです．1週目の掲載順を除外したのは，新連載作品はほとんど巻頭に掲載されるためです．また，近年最短とされる作品が8週連載なので，遅くともこの1週間前には打ち切りを予測するため，7週目までの掲載順を入力としました．打ち切りを阻止するためには，もっと早期に打ち切りを予測する必要がありますが，これは今後の課題ということで…．\n",
    "\n",
    "## 目次データ\n",
    "\n",
    "　[0_obtain_comic_data_j.ipynb](0_obtain_comic_data_j.ipynb)で取得した`data/wj-api.json`を使います．また，[1_analyze_comic_data_j.ipynb](1_analyze_comic_data_j.ipynb)で定義した`ComicAnalyzer`を`analyze.py`からimportして使います．"
   ]
  },
  {
   "cell_type": "code",
   "execution_count": 1,
   "metadata": {
    "collapsed": true
   },
   "outputs": [],
   "source": [
    "import analize\n",
    "\n",
    "wj = analize.ComicAnalyzer()"
   ]
  },
  {
   "cell_type": "markdown",
   "metadata": {},
   "source": [
    "## モデル\n",
    "\n",
    "　以下に，本記事で想定する[多層パーセプトロン](https://en.wikipedia.org/wiki/Multilayer_perceptron)のモデルを示します．多層パーセプトロンについては，[誤差逆伝播法のノート](http://qiita.com/Ugo-Nama/items/04814a13c9ea84978a4c)が詳しいです．\n",
    "\n",
    "![model.png](fig/model.png)\n",
    "\n",
    "　本記事では，隠れ層1層の多層パーセプトロンを用います．入力層は6ノード（2週目から7週目までの掲載順），隠れ層は$n$ノード，出力層は1ノード（短命作品である確率）を含みます．隠れ層および出力層の活性化関数として，[Sigmoid関数](https://ja.wikipedia.org/wiki/%E6%B4%BB%E6%80%A7%E5%8C%96%E9%96%A2%E6%95%B0#.E3.82.B7.E3.82.B0.E3.83.A2.E3.82.A4.E3.83.89.E9.96.A2.E6.95.B0)を用います．学習率として，$r$を用います．最適化アルゴリズムとして，オーソドックスな[Stochastic Gradient Descent (SGD)](https://ja.wikipedia.org/wiki/%E7%A2%BA%E7%8E%87%E7%9A%84%E5%8B%BE%E9%85%8D%E9%99%8D%E4%B8%8B%E6%B3%95#cite_note-17)と，人気の[Adam](https://arxiv.org/abs/1412.6980)の両方を使って結果を比較します．\n",
    " \n",
    "　本記事では，以下のハイパーパラメータを調整して，予測性能の最大化を目指します．\n",
    "\n",
    "|項目|設計空間|補足|\n",
    "|:--|:--|:--|\n",
    "|学習率（$r$）| $0 < r < 1$| 大きいほど収束が速いが，大きすぎるとうまく学習しない．|\n",
    "|隠れ層のノード数（$n$）| $\\{1, 2,...,8\\}$ |最大でも入力層＋出力層が目安？|\n",
    "|最適化アルゴリズム| {Gradient descent, Adam}| 前者はオーソドックス，Adamは新しめ．|\n"
   ]
  },
  {
   "cell_type": "markdown",
   "metadata": {
    "collapsed": true
   },
   "source": [
    "## 学習データ，テストデータの生成"
   ]
  },
  {
   "cell_type": "code",
   "execution_count": 2,
   "metadata": {
    "collapsed": true
   },
   "outputs": [],
   "source": [
    "import numpy as np\n",
    "\n",
    "def make_x(anlzr, title='ONE PIECE'):\n",
    "    worsts = np.array(anlzr.extract_item(title)[1:7])\n",
    "    bests = np.array(anlzr.extract_item(title, 'best')[1:7])\n",
    "    worsts_normalized = worsts / (worsts + bests - 1)    \n",
    "    return worsts_normalized\n",
    "\n",
    "\n",
    "def make_y(anlzr, title='ONE PIECE', thresh_week=10):\n",
    "    return float(len(anlzr.extract_item(title)) <=  thresh_week)\n",
    "\n",
    "\n",
    "def batch_x_y(anlzr, titles, thresh_week=10):\n",
    "    xs = np.array([make_x(anlzr, title) for title in titles])\n",
    "    ys = np.array([[make_y(anlzr, title, thresh_week)] for title in titles])\n",
    "    return xs, ys"
   ]
  },
  {
   "cell_type": "code",
   "execution_count": 11,
   "metadata": {
    "collapsed": true
   },
   "outputs": [],
   "source": [
    "x_test_10, y_test_10 = batch_x_y(wj, wj.end_titles[-100:])\n",
    "x_train_10, y_train_10 = batch_x_y(wj, wj.end_titles[:-100])"
   ]
  },
  {
   "cell_type": "markdown",
   "metadata": {},
   "source": [
    "## 多層パーセプトロンの構築\n",
    "\n",
    "　`ComicNet()`は，多層パーセプトロンを管理するクラスです．"
   ]
  },
  {
   "cell_type": "code",
   "execution_count": 47,
   "metadata": {
    "collapsed": true
   },
   "outputs": [],
   "source": [
    "import tensorflow as tf\n",
    "\n",
    "class ComicNet():\n",
    "    def __init__(self, x_train, y_train, x_test, y_test,\n",
    "                 r=0.01, n=4, epoch=1000, algo='SGD'):\n",
    "        self.x_train = x_train\n",
    "        self.y_train = y_train\n",
    "        self.x_test = x_test\n",
    "        self.y_test = y_test\n",
    "        self.learning_rate = r\n",
    "        self.n_h = n\n",
    "        self.epoch = epoch\n",
    "        self.algo = algo\n",
    "                \n",
    "    def build_network(self):\n",
    "        \n",
    "        n_x = self.x_test.shape[1]\n",
    "        n_y = self.y_test.shape[1]\n",
    "        self.x = tf.placeholder(tf.float32, [None, n_x], name='x')\n",
    "        self.y = tf.placeholder(tf.float32, [None, n_y], name='y')\n",
    "        \n",
    "        self.w_h = tf.Variable(\n",
    "            tf.truncated_normal((n_x, self.n_h), stddev=0.05))\n",
    "        self.b_h = tf.Variable(tf.zeros(self.n_h))\n",
    "        self.logits = tf.add(tf.matmul(self.x, self.w_h), self.b_h)\n",
    "        self.logits = tf.nn.sigmoid(self.logits)\n",
    "        tf.summary.histogram('w_h', self.w_h)\n",
    "        tf.summary.histogram('b_h', self.b_h)\n",
    "        \n",
    "        self.w_y = tf.Variable(\n",
    "            tf.truncated_normal((self.n_h, n_y), stddev=0.05))\n",
    "        self.b_y = tf.Variable(tf.zeros(n_y))\n",
    "        self.logits = tf.add(tf.matmul(self.logits, self.w_y), self.b_y)\n",
    "        self.logits = tf.nn.sigmoid(self.logits, name='logits')\n",
    "        tf.summary.histogram('w_b', self.w_y)\n",
    "        tf.summary.histogram('b_b', self.b_y)\n",
    "        tf.summary.histogram('logits', self.logits)\n",
    "        \n",
    "        self.loss = tf.nn.l2_loss(self.y - self.logits, name='loss')\n",
    "        tf.summary.scalar('loss', self.loss)\n",
    "        \n",
    "        if self.algo == 'SGD':\n",
    "            self.optimizer = tf.train.GradientDescentOptimizer(\n",
    "                self.learning_rate).minimize(self.loss)\n",
    "        else:\n",
    "            self.optimizer = tf.train.AdamOptimizer(\n",
    "                self.learning_rate).minimize(self.loss)\n",
    "        \n",
    "        correct_prediction = tf.equal(self.y, tf.round(self.logits))\n",
    "        self.acc = tf.reduce_mean(tf.cast(correct_prediction, tf.float32),\n",
    "            name='acc')\n",
    "        tf.summary.scalar('acc', self.acc)\n",
    "        \n",
    "        self.merged = tf.summary.merge_all()\n",
    "    \n",
    "    \n",
    "    def batch_train_and_valid(self, n_tra, n_val):\n",
    "        i_pos = [i for i in range(len(self.y_train))\n",
    "                 if self.y_train[i]==1]\n",
    "        i_neg = [i for i in range(len(self.y_train))\n",
    "                 if self.y_train[i]==0]\n",
    "            \n",
    "        i_pos_tra = np.random.choice(i_pos, n_tra, replace=False)\n",
    "        i_neg_tra = np.random.choice(i_neg, n_tra, replace=False)\n",
    "        i_pos_val = np.random.choice(\n",
    "            [i for i in i_pos if not i in i_pos_tra], n_val,\n",
    "            replace=False)\n",
    "        i_neg_val = np.random.choice(\n",
    "            [i for i in i_neg if not i in i_neg_tra], n_val,\n",
    "            replace=False)\n",
    "        \n",
    "        x_tra = self.x_train[np.r_[i_pos_tra, i_neg_tra]]\n",
    "        y_tra = self.y_train[np.r_[i_pos_tra, i_neg_tra]]\n",
    "        x_val = self.x_train[np.r_[i_pos_val, i_neg_val]]\n",
    "        y_val = self.y_train[np.r_[i_pos_val, i_neg_val]]\n",
    "        \n",
    "        return x_tra, y_tra, x_val, y_val\n",
    "        \n",
    "        \n",
    "    def train(self):\n",
    "        with tf.Session() as sess:\n",
    "            sess.run(tf.global_variables_initializer())\n",
    "            writer = tf.summary.FileWriter('./logs/1/train')\n",
    "\n",
    "            for e in range(self.epoch):\n",
    "                n_tra = 50\n",
    "                n_val = (self.y_train == 1).sum() - n_tra\n",
    "                x_tra, y_tra, x_val, y_val = self.batch_train_and_valid(n_tra, n_val)\n",
    "                \n",
    "                feed_dict = {self.x: x_tra, self.y: y_tra}\n",
    "                _, loss_tra, acc_tra, summary = sess.run(\n",
    "                        (self.optimizer, self.loss, self.acc, self.merged), \n",
    "                        feed_dict=feed_dict)\n",
    "                \n",
    "                writer.add_summary(summary, e)\n",
    "                \n",
    "                feed_dict = {self.x: x_val, self.y: y_val}\n",
    "                loss_val, acc_val = sess.run(\n",
    "                    (self.loss, self.acc), feed_dict=feed_dict)\n",
    "                \n",
    "                if e%500 == 0:\n",
    "                    print('epoch: ', str(e), ', loss_tra (', str(n_tra * 2),\n",
    "                          '): ', str(loss_tra), ', loss_val (', str(n_val * 2),\n",
    "                          '): ', str(loss_val))\n",
    "            \n",
    "            self.save_model_path = './prediction_model'\n",
    "            saver = tf.train.Saver()\n",
    "            save_path = saver.save(sess, self.save_model_path)\n",
    "            \n",
    "            \n",
    "    def test(self):\n",
    "        loaded_graph = tf.Graph()\n",
    "        \n",
    "        with tf.Session(graph=loaded_graph) as sess:\n",
    "            loader = tf.train.import_meta_graph(\n",
    "                self.save_model_path + '.meta')\n",
    "            loader.restore(sess, self.save_model_path)\n",
    "            \n",
    "            x_loaded = loaded_graph.get_tensor_by_name('x:0')\n",
    "            y_loaded = loaded_graph.get_tensor_by_name('y:0')\n",
    "            \n",
    "            loss_loaded = loaded_graph.get_tensor_by_name('loss:0')\n",
    "            acc_loaded = loaded_graph.get_tensor_by_name('acc:0')\n",
    "            logits_loaded = loaded_graph.get_tensor_by_name('logits:0')\n",
    "        \n",
    "            feed_dict = {x_loaded: self.x_test, y_loaded: self.y_test}\n",
    "            loss_test, acc_test, logits_test = sess.run(\n",
    "                (loss_loaded, acc_loaded, logits_loaded), feed_dict=feed_dict)\n",
    "            print('acc_test:', acc_test)\n",
    "            return logits_test"
   ]
  },
  {
   "cell_type": "code",
   "execution_count": 48,
   "metadata": {
    "collapsed": true
   },
   "outputs": [],
   "source": [
    "wjnet = ComicNet(x_train_10, y_train_10, x_test_10, y_test_10, \n",
    "                 algo='SGD', n=4, epoch=10000, r=0.005)"
   ]
  },
  {
   "cell_type": "code",
   "execution_count": 49,
   "metadata": {},
   "outputs": [],
   "source": [
    "\n",
    "wjnet.build_network()"
   ]
  },
  {
   "cell_type": "code",
   "execution_count": 50,
   "metadata": {},
   "outputs": [
    {
     "data": {
      "text/plain": [
       "array([[ 0.90909091,  0.72727273,  0.92857143,  1.        ,  0.85714286,\n",
       "         0.84615385],\n",
       "       [ 0.72727273,  0.91666667,  0.81818182,  0.64285714,  0.75      ,\n",
       "         0.64285714]])"
      ]
     },
     "execution_count": 50,
     "metadata": {},
     "output_type": "execute_result"
    }
   ],
   "source": [
    "x_train_10[:2]"
   ]
  },
  {
   "cell_type": "code",
   "execution_count": 51,
   "metadata": {},
   "outputs": [
    {
     "ename": "InvalidArgumentError",
     "evalue": "You must feed a value for placeholder tensor 'x' with dtype float\n\t [[Node: x = Placeholder[dtype=DT_FLOAT, shape=[], _device=\"/job:localhost/replica:0/task:0/cpu:0\"]()]]\n\nCaused by op 'x', defined at:\n  File \"/home/ryoma/anaconda3/envs/comic/lib/python3.5/runpy.py\", line 193, in _run_module_as_main\n    \"__main__\", mod_spec)\n  File \"/home/ryoma/anaconda3/envs/comic/lib/python3.5/runpy.py\", line 85, in _run_code\n    exec(code, run_globals)\n  File \"/home/ryoma/anaconda3/envs/comic/lib/python3.5/site-packages/ipykernel_launcher.py\", line 16, in <module>\n    app.launch_new_instance()\n  File \"/home/ryoma/anaconda3/envs/comic/lib/python3.5/site-packages/traitlets/config/application.py\", line 658, in launch_instance\n    app.start()\n  File \"/home/ryoma/anaconda3/envs/comic/lib/python3.5/site-packages/ipykernel/kernelapp.py\", line 477, in start\n    ioloop.IOLoop.instance().start()\n  File \"/home/ryoma/anaconda3/envs/comic/lib/python3.5/site-packages/zmq/eventloop/ioloop.py\", line 177, in start\n    super(ZMQIOLoop, self).start()\n  File \"/home/ryoma/anaconda3/envs/comic/lib/python3.5/site-packages/tornado/ioloop.py\", line 887, in start\n    handler_func(fd_obj, events)\n  File \"/home/ryoma/anaconda3/envs/comic/lib/python3.5/site-packages/tornado/stack_context.py\", line 275, in null_wrapper\n    return fn(*args, **kwargs)\n  File \"/home/ryoma/anaconda3/envs/comic/lib/python3.5/site-packages/zmq/eventloop/zmqstream.py\", line 440, in _handle_events\n    self._handle_recv()\n  File \"/home/ryoma/anaconda3/envs/comic/lib/python3.5/site-packages/zmq/eventloop/zmqstream.py\", line 472, in _handle_recv\n    self._run_callback(callback, msg)\n  File \"/home/ryoma/anaconda3/envs/comic/lib/python3.5/site-packages/zmq/eventloop/zmqstream.py\", line 414, in _run_callback\n    callback(*args, **kwargs)\n  File \"/home/ryoma/anaconda3/envs/comic/lib/python3.5/site-packages/tornado/stack_context.py\", line 275, in null_wrapper\n    return fn(*args, **kwargs)\n  File \"/home/ryoma/anaconda3/envs/comic/lib/python3.5/site-packages/ipykernel/kernelbase.py\", line 283, in dispatcher\n    return self.dispatch_shell(stream, msg)\n  File \"/home/ryoma/anaconda3/envs/comic/lib/python3.5/site-packages/ipykernel/kernelbase.py\", line 235, in dispatch_shell\n    handler(stream, idents, msg)\n  File \"/home/ryoma/anaconda3/envs/comic/lib/python3.5/site-packages/ipykernel/kernelbase.py\", line 399, in execute_request\n    user_expressions, allow_stdin)\n  File \"/home/ryoma/anaconda3/envs/comic/lib/python3.5/site-packages/ipykernel/ipkernel.py\", line 196, in do_execute\n    res = shell.run_cell(code, store_history=store_history, silent=silent)\n  File \"/home/ryoma/anaconda3/envs/comic/lib/python3.5/site-packages/ipykernel/zmqshell.py\", line 533, in run_cell\n    return super(ZMQInteractiveShell, self).run_cell(*args, **kwargs)\n  File \"/home/ryoma/anaconda3/envs/comic/lib/python3.5/site-packages/IPython/core/interactiveshell.py\", line 2717, in run_cell\n    interactivity=interactivity, compiler=compiler, result=result)\n  File \"/home/ryoma/anaconda3/envs/comic/lib/python3.5/site-packages/IPython/core/interactiveshell.py\", line 2827, in run_ast_nodes\n    if self.run_code(code, result):\n  File \"/home/ryoma/anaconda3/envs/comic/lib/python3.5/site-packages/IPython/core/interactiveshell.py\", line 2881, in run_code\n    exec(code_obj, self.user_global_ns, self.user_ns)\n  File \"<ipython-input-6-fcfeb923a01f>\", line 1, in <module>\n    wjnet.build_network()\n  File \"<ipython-input-4-76aca0914763>\", line 19, in build_network\n    self.x = tf.placeholder(tf.float32, [None, n_x], name='x')\n  File \"/home/ryoma/anaconda3/envs/comic/lib/python3.5/site-packages/tensorflow/python/ops/array_ops.py\", line 1502, in placeholder\n    name=name)\n  File \"/home/ryoma/anaconda3/envs/comic/lib/python3.5/site-packages/tensorflow/python/ops/gen_array_ops.py\", line 2149, in _placeholder\n    name=name)\n  File \"/home/ryoma/anaconda3/envs/comic/lib/python3.5/site-packages/tensorflow/python/framework/op_def_library.py\", line 763, in apply_op\n    op_def=op_def)\n  File \"/home/ryoma/anaconda3/envs/comic/lib/python3.5/site-packages/tensorflow/python/framework/ops.py\", line 2327, in create_op\n    original_op=self._default_original_op, op_def=op_def)\n  File \"/home/ryoma/anaconda3/envs/comic/lib/python3.5/site-packages/tensorflow/python/framework/ops.py\", line 1226, in __init__\n    self._traceback = _extract_stack()\n\nInvalidArgumentError (see above for traceback): You must feed a value for placeholder tensor 'x' with dtype float\n\t [[Node: x = Placeholder[dtype=DT_FLOAT, shape=[], _device=\"/job:localhost/replica:0/task:0/cpu:0\"]()]]\n",
     "output_type": "error",
     "traceback": [
      "\u001b[0;31m---------------------------------------------------------------------------\u001b[0m",
      "\u001b[0;31mInvalidArgumentError\u001b[0m                      Traceback (most recent call last)",
      "\u001b[0;32m/home/ryoma/anaconda3/envs/comic/lib/python3.5/site-packages/tensorflow/python/client/session.py\u001b[0m in \u001b[0;36m_do_call\u001b[0;34m(self, fn, *args)\u001b[0m\n\u001b[1;32m   1021\u001b[0m     \u001b[0;32mtry\u001b[0m\u001b[0;34m:\u001b[0m\u001b[0;34m\u001b[0m\u001b[0m\n\u001b[0;32m-> 1022\u001b[0;31m       \u001b[0;32mreturn\u001b[0m \u001b[0mfn\u001b[0m\u001b[0;34m(\u001b[0m\u001b[0;34m*\u001b[0m\u001b[0margs\u001b[0m\u001b[0;34m)\u001b[0m\u001b[0;34m\u001b[0m\u001b[0m\n\u001b[0m\u001b[1;32m   1023\u001b[0m     \u001b[0;32mexcept\u001b[0m \u001b[0merrors\u001b[0m\u001b[0;34m.\u001b[0m\u001b[0mOpError\u001b[0m \u001b[0;32mas\u001b[0m \u001b[0me\u001b[0m\u001b[0;34m:\u001b[0m\u001b[0;34m\u001b[0m\u001b[0m\n",
      "\u001b[0;32m/home/ryoma/anaconda3/envs/comic/lib/python3.5/site-packages/tensorflow/python/client/session.py\u001b[0m in \u001b[0;36m_run_fn\u001b[0;34m(session, feed_dict, fetch_list, target_list, options, run_metadata)\u001b[0m\n\u001b[1;32m   1003\u001b[0m                                  \u001b[0mfeed_dict\u001b[0m\u001b[0;34m,\u001b[0m \u001b[0mfetch_list\u001b[0m\u001b[0;34m,\u001b[0m \u001b[0mtarget_list\u001b[0m\u001b[0;34m,\u001b[0m\u001b[0;34m\u001b[0m\u001b[0m\n\u001b[0;32m-> 1004\u001b[0;31m                                  status, run_metadata)\n\u001b[0m\u001b[1;32m   1005\u001b[0m \u001b[0;34m\u001b[0m\u001b[0m\n",
      "\u001b[0;32m/home/ryoma/anaconda3/envs/comic/lib/python3.5/contextlib.py\u001b[0m in \u001b[0;36m__exit__\u001b[0;34m(self, type, value, traceback)\u001b[0m\n\u001b[1;32m     65\u001b[0m             \u001b[0;32mtry\u001b[0m\u001b[0;34m:\u001b[0m\u001b[0;34m\u001b[0m\u001b[0m\n\u001b[0;32m---> 66\u001b[0;31m                 \u001b[0mnext\u001b[0m\u001b[0;34m(\u001b[0m\u001b[0mself\u001b[0m\u001b[0;34m.\u001b[0m\u001b[0mgen\u001b[0m\u001b[0;34m)\u001b[0m\u001b[0;34m\u001b[0m\u001b[0m\n\u001b[0m\u001b[1;32m     67\u001b[0m             \u001b[0;32mexcept\u001b[0m \u001b[0mStopIteration\u001b[0m\u001b[0;34m:\u001b[0m\u001b[0;34m\u001b[0m\u001b[0m\n",
      "\u001b[0;32m/home/ryoma/anaconda3/envs/comic/lib/python3.5/site-packages/tensorflow/python/framework/errors_impl.py\u001b[0m in \u001b[0;36mraise_exception_on_not_ok_status\u001b[0;34m()\u001b[0m\n\u001b[1;32m    465\u001b[0m           \u001b[0mcompat\u001b[0m\u001b[0;34m.\u001b[0m\u001b[0mas_text\u001b[0m\u001b[0;34m(\u001b[0m\u001b[0mpywrap_tensorflow\u001b[0m\u001b[0;34m.\u001b[0m\u001b[0mTF_Message\u001b[0m\u001b[0;34m(\u001b[0m\u001b[0mstatus\u001b[0m\u001b[0;34m)\u001b[0m\u001b[0;34m)\u001b[0m\u001b[0;34m,\u001b[0m\u001b[0;34m\u001b[0m\u001b[0m\n\u001b[0;32m--> 466\u001b[0;31m           pywrap_tensorflow.TF_GetCode(status))\n\u001b[0m\u001b[1;32m    467\u001b[0m   \u001b[0;32mfinally\u001b[0m\u001b[0;34m:\u001b[0m\u001b[0;34m\u001b[0m\u001b[0m\n",
      "\u001b[0;31mInvalidArgumentError\u001b[0m: You must feed a value for placeholder tensor 'x' with dtype float\n\t [[Node: x = Placeholder[dtype=DT_FLOAT, shape=[], _device=\"/job:localhost/replica:0/task:0/cpu:0\"]()]]",
      "\nDuring handling of the above exception, another exception occurred:\n",
      "\u001b[0;31mInvalidArgumentError\u001b[0m                      Traceback (most recent call last)",
      "\u001b[0;32m<ipython-input-51-9214c4ce4394>\u001b[0m in \u001b[0;36m<module>\u001b[0;34m()\u001b[0m\n\u001b[0;32m----> 1\u001b[0;31m \u001b[0mx_tra\u001b[0m \u001b[0;34m=\u001b[0m \u001b[0mwjnet\u001b[0m\u001b[0;34m.\u001b[0m\u001b[0mtrain\u001b[0m\u001b[0;34m(\u001b[0m\u001b[0;34m)\u001b[0m\u001b[0;34m\u001b[0m\u001b[0m\n\u001b[0m",
      "\u001b[0;32m<ipython-input-47-199877332e83>\u001b[0m in \u001b[0;36mtrain\u001b[0;34m(self)\u001b[0m\n\u001b[1;32m     91\u001b[0m                 _, loss_tra, acc_tra, summary = sess.run(\n\u001b[1;32m     92\u001b[0m                         \u001b[0;34m(\u001b[0m\u001b[0mself\u001b[0m\u001b[0;34m.\u001b[0m\u001b[0moptimizer\u001b[0m\u001b[0;34m,\u001b[0m \u001b[0mself\u001b[0m\u001b[0;34m.\u001b[0m\u001b[0mloss\u001b[0m\u001b[0;34m,\u001b[0m \u001b[0mself\u001b[0m\u001b[0;34m.\u001b[0m\u001b[0macc\u001b[0m\u001b[0;34m,\u001b[0m \u001b[0mself\u001b[0m\u001b[0;34m.\u001b[0m\u001b[0mmerged\u001b[0m\u001b[0;34m)\u001b[0m\u001b[0;34m,\u001b[0m\u001b[0;34m\u001b[0m\u001b[0m\n\u001b[0;32m---> 93\u001b[0;31m                         feed_dict=feed_dict)\n\u001b[0m\u001b[1;32m     94\u001b[0m \u001b[0;34m\u001b[0m\u001b[0m\n\u001b[1;32m     95\u001b[0m                 \u001b[0mwriter\u001b[0m\u001b[0;34m.\u001b[0m\u001b[0madd_summary\u001b[0m\u001b[0;34m(\u001b[0m\u001b[0msummary\u001b[0m\u001b[0;34m,\u001b[0m \u001b[0me\u001b[0m\u001b[0;34m)\u001b[0m\u001b[0;34m\u001b[0m\u001b[0m\n",
      "\u001b[0;32m/home/ryoma/anaconda3/envs/comic/lib/python3.5/site-packages/tensorflow/python/client/session.py\u001b[0m in \u001b[0;36mrun\u001b[0;34m(self, fetches, feed_dict, options, run_metadata)\u001b[0m\n\u001b[1;32m    765\u001b[0m     \u001b[0;32mtry\u001b[0m\u001b[0;34m:\u001b[0m\u001b[0;34m\u001b[0m\u001b[0m\n\u001b[1;32m    766\u001b[0m       result = self._run(None, fetches, feed_dict, options_ptr,\n\u001b[0;32m--> 767\u001b[0;31m                          run_metadata_ptr)\n\u001b[0m\u001b[1;32m    768\u001b[0m       \u001b[0;32mif\u001b[0m \u001b[0mrun_metadata\u001b[0m\u001b[0;34m:\u001b[0m\u001b[0;34m\u001b[0m\u001b[0m\n\u001b[1;32m    769\u001b[0m         \u001b[0mproto_data\u001b[0m \u001b[0;34m=\u001b[0m \u001b[0mtf_session\u001b[0m\u001b[0;34m.\u001b[0m\u001b[0mTF_GetBuffer\u001b[0m\u001b[0;34m(\u001b[0m\u001b[0mrun_metadata_ptr\u001b[0m\u001b[0;34m)\u001b[0m\u001b[0;34m\u001b[0m\u001b[0m\n",
      "\u001b[0;32m/home/ryoma/anaconda3/envs/comic/lib/python3.5/site-packages/tensorflow/python/client/session.py\u001b[0m in \u001b[0;36m_run\u001b[0;34m(self, handle, fetches, feed_dict, options, run_metadata)\u001b[0m\n\u001b[1;32m    963\u001b[0m     \u001b[0;32mif\u001b[0m \u001b[0mfinal_fetches\u001b[0m \u001b[0;32mor\u001b[0m \u001b[0mfinal_targets\u001b[0m\u001b[0;34m:\u001b[0m\u001b[0;34m\u001b[0m\u001b[0m\n\u001b[1;32m    964\u001b[0m       results = self._do_run(handle, final_targets, final_fetches,\n\u001b[0;32m--> 965\u001b[0;31m                              feed_dict_string, options, run_metadata)\n\u001b[0m\u001b[1;32m    966\u001b[0m     \u001b[0;32melse\u001b[0m\u001b[0;34m:\u001b[0m\u001b[0;34m\u001b[0m\u001b[0m\n\u001b[1;32m    967\u001b[0m       \u001b[0mresults\u001b[0m \u001b[0;34m=\u001b[0m \u001b[0;34m[\u001b[0m\u001b[0;34m]\u001b[0m\u001b[0;34m\u001b[0m\u001b[0m\n",
      "\u001b[0;32m/home/ryoma/anaconda3/envs/comic/lib/python3.5/site-packages/tensorflow/python/client/session.py\u001b[0m in \u001b[0;36m_do_run\u001b[0;34m(self, handle, target_list, fetch_list, feed_dict, options, run_metadata)\u001b[0m\n\u001b[1;32m   1013\u001b[0m     \u001b[0;32mif\u001b[0m \u001b[0mhandle\u001b[0m \u001b[0;32mis\u001b[0m \u001b[0;32mNone\u001b[0m\u001b[0;34m:\u001b[0m\u001b[0;34m\u001b[0m\u001b[0m\n\u001b[1;32m   1014\u001b[0m       return self._do_call(_run_fn, self._session, feed_dict, fetch_list,\n\u001b[0;32m-> 1015\u001b[0;31m                            target_list, options, run_metadata)\n\u001b[0m\u001b[1;32m   1016\u001b[0m     \u001b[0;32melse\u001b[0m\u001b[0;34m:\u001b[0m\u001b[0;34m\u001b[0m\u001b[0m\n\u001b[1;32m   1017\u001b[0m       return self._do_call(_prun_fn, self._session, handle, feed_dict,\n",
      "\u001b[0;32m/home/ryoma/anaconda3/envs/comic/lib/python3.5/site-packages/tensorflow/python/client/session.py\u001b[0m in \u001b[0;36m_do_call\u001b[0;34m(self, fn, *args)\u001b[0m\n\u001b[1;32m   1033\u001b[0m         \u001b[0;32mexcept\u001b[0m \u001b[0mKeyError\u001b[0m\u001b[0;34m:\u001b[0m\u001b[0;34m\u001b[0m\u001b[0m\n\u001b[1;32m   1034\u001b[0m           \u001b[0;32mpass\u001b[0m\u001b[0;34m\u001b[0m\u001b[0m\n\u001b[0;32m-> 1035\u001b[0;31m       \u001b[0;32mraise\u001b[0m \u001b[0mtype\u001b[0m\u001b[0;34m(\u001b[0m\u001b[0me\u001b[0m\u001b[0;34m)\u001b[0m\u001b[0;34m(\u001b[0m\u001b[0mnode_def\u001b[0m\u001b[0;34m,\u001b[0m \u001b[0mop\u001b[0m\u001b[0;34m,\u001b[0m \u001b[0mmessage\u001b[0m\u001b[0;34m)\u001b[0m\u001b[0;34m\u001b[0m\u001b[0m\n\u001b[0m\u001b[1;32m   1036\u001b[0m \u001b[0;34m\u001b[0m\u001b[0m\n\u001b[1;32m   1037\u001b[0m   \u001b[0;32mdef\u001b[0m \u001b[0m_extend_graph\u001b[0m\u001b[0;34m(\u001b[0m\u001b[0mself\u001b[0m\u001b[0;34m)\u001b[0m\u001b[0;34m:\u001b[0m\u001b[0;34m\u001b[0m\u001b[0m\n",
      "\u001b[0;31mInvalidArgumentError\u001b[0m: You must feed a value for placeholder tensor 'x' with dtype float\n\t [[Node: x = Placeholder[dtype=DT_FLOAT, shape=[], _device=\"/job:localhost/replica:0/task:0/cpu:0\"]()]]\n\nCaused by op 'x', defined at:\n  File \"/home/ryoma/anaconda3/envs/comic/lib/python3.5/runpy.py\", line 193, in _run_module_as_main\n    \"__main__\", mod_spec)\n  File \"/home/ryoma/anaconda3/envs/comic/lib/python3.5/runpy.py\", line 85, in _run_code\n    exec(code, run_globals)\n  File \"/home/ryoma/anaconda3/envs/comic/lib/python3.5/site-packages/ipykernel_launcher.py\", line 16, in <module>\n    app.launch_new_instance()\n  File \"/home/ryoma/anaconda3/envs/comic/lib/python3.5/site-packages/traitlets/config/application.py\", line 658, in launch_instance\n    app.start()\n  File \"/home/ryoma/anaconda3/envs/comic/lib/python3.5/site-packages/ipykernel/kernelapp.py\", line 477, in start\n    ioloop.IOLoop.instance().start()\n  File \"/home/ryoma/anaconda3/envs/comic/lib/python3.5/site-packages/zmq/eventloop/ioloop.py\", line 177, in start\n    super(ZMQIOLoop, self).start()\n  File \"/home/ryoma/anaconda3/envs/comic/lib/python3.5/site-packages/tornado/ioloop.py\", line 887, in start\n    handler_func(fd_obj, events)\n  File \"/home/ryoma/anaconda3/envs/comic/lib/python3.5/site-packages/tornado/stack_context.py\", line 275, in null_wrapper\n    return fn(*args, **kwargs)\n  File \"/home/ryoma/anaconda3/envs/comic/lib/python3.5/site-packages/zmq/eventloop/zmqstream.py\", line 440, in _handle_events\n    self._handle_recv()\n  File \"/home/ryoma/anaconda3/envs/comic/lib/python3.5/site-packages/zmq/eventloop/zmqstream.py\", line 472, in _handle_recv\n    self._run_callback(callback, msg)\n  File \"/home/ryoma/anaconda3/envs/comic/lib/python3.5/site-packages/zmq/eventloop/zmqstream.py\", line 414, in _run_callback\n    callback(*args, **kwargs)\n  File \"/home/ryoma/anaconda3/envs/comic/lib/python3.5/site-packages/tornado/stack_context.py\", line 275, in null_wrapper\n    return fn(*args, **kwargs)\n  File \"/home/ryoma/anaconda3/envs/comic/lib/python3.5/site-packages/ipykernel/kernelbase.py\", line 283, in dispatcher\n    return self.dispatch_shell(stream, msg)\n  File \"/home/ryoma/anaconda3/envs/comic/lib/python3.5/site-packages/ipykernel/kernelbase.py\", line 235, in dispatch_shell\n    handler(stream, idents, msg)\n  File \"/home/ryoma/anaconda3/envs/comic/lib/python3.5/site-packages/ipykernel/kernelbase.py\", line 399, in execute_request\n    user_expressions, allow_stdin)\n  File \"/home/ryoma/anaconda3/envs/comic/lib/python3.5/site-packages/ipykernel/ipkernel.py\", line 196, in do_execute\n    res = shell.run_cell(code, store_history=store_history, silent=silent)\n  File \"/home/ryoma/anaconda3/envs/comic/lib/python3.5/site-packages/ipykernel/zmqshell.py\", line 533, in run_cell\n    return super(ZMQInteractiveShell, self).run_cell(*args, **kwargs)\n  File \"/home/ryoma/anaconda3/envs/comic/lib/python3.5/site-packages/IPython/core/interactiveshell.py\", line 2717, in run_cell\n    interactivity=interactivity, compiler=compiler, result=result)\n  File \"/home/ryoma/anaconda3/envs/comic/lib/python3.5/site-packages/IPython/core/interactiveshell.py\", line 2827, in run_ast_nodes\n    if self.run_code(code, result):\n  File \"/home/ryoma/anaconda3/envs/comic/lib/python3.5/site-packages/IPython/core/interactiveshell.py\", line 2881, in run_code\n    exec(code_obj, self.user_global_ns, self.user_ns)\n  File \"<ipython-input-6-fcfeb923a01f>\", line 1, in <module>\n    wjnet.build_network()\n  File \"<ipython-input-4-76aca0914763>\", line 19, in build_network\n    self.x = tf.placeholder(tf.float32, [None, n_x], name='x')\n  File \"/home/ryoma/anaconda3/envs/comic/lib/python3.5/site-packages/tensorflow/python/ops/array_ops.py\", line 1502, in placeholder\n    name=name)\n  File \"/home/ryoma/anaconda3/envs/comic/lib/python3.5/site-packages/tensorflow/python/ops/gen_array_ops.py\", line 2149, in _placeholder\n    name=name)\n  File \"/home/ryoma/anaconda3/envs/comic/lib/python3.5/site-packages/tensorflow/python/framework/op_def_library.py\", line 763, in apply_op\n    op_def=op_def)\n  File \"/home/ryoma/anaconda3/envs/comic/lib/python3.5/site-packages/tensorflow/python/framework/ops.py\", line 2327, in create_op\n    original_op=self._default_original_op, op_def=op_def)\n  File \"/home/ryoma/anaconda3/envs/comic/lib/python3.5/site-packages/tensorflow/python/framework/ops.py\", line 1226, in __init__\n    self._traceback = _extract_stack()\n\nInvalidArgumentError (see above for traceback): You must feed a value for placeholder tensor 'x' with dtype float\n\t [[Node: x = Placeholder[dtype=DT_FLOAT, shape=[], _device=\"/job:localhost/replica:0/task:0/cpu:0\"]()]]\n"
     ]
    }
   ],
   "source": [
    "x_tra = wjnet.train()"
   ]
  },
  {
   "cell_type": "code",
   "execution_count": 41,
   "metadata": {},
   "outputs": [
    {
     "data": {
      "text/plain": [
       "array([[ 0.63157895,  0.95      ,  0.52631579,  0.57894737,  0.15      ,\n",
       "         0.15789474],\n",
       "       [ 0.71428571,  0.14285714,  0.28571429,  0.21428571,  0.28571429,\n",
       "         0.14285714],\n",
       "       [ 0.625     ,  0.9375    ,  0.5625    ,  0.5625    ,  0.125     ,\n",
       "         0.17647059],\n",
       "       [ 0.8       ,  0.5       ,  0.35294118,  0.4375    ,  0.25      ,\n",
       "         0.1875    ],\n",
       "       [ 0.53333333,  0.8125    ,  0.53333333,  0.8       ,  0.53333333,\n",
       "         0.75      ],\n",
       "       [ 0.63157895,  0.36842105,  0.5       ,  0.2       ,  0.35      ,\n",
       "         0.10526316],\n",
       "       [ 0.45      ,  0.38095238,  0.38095238,  0.23809524,  0.45      ,\n",
       "         0.31578947],\n",
       "       [ 0.875     ,  0.375     ,  0.1875    ,  0.17647059,  0.11764706,\n",
       "         0.17647059],\n",
       "       [ 1.        ,  0.52631579,  0.42105263,  0.94736842,  0.36842105,\n",
       "         0.78947368],\n",
       "       [ 0.52380952,  0.7826087 ,  0.77272727,  0.52173913,  0.52173913,\n",
       "         0.38095238],\n",
       "       [ 0.80952381,  0.25      ,  0.5       ,  0.65      ,  0.95      ,\n",
       "         0.42857143],\n",
       "       [ 0.75      ,  0.625     ,  0.5       ,  0.25      ,  0.5625    ,\n",
       "         0.4375    ],\n",
       "       [ 0.70588235,  0.38888889,  0.35294118,  0.23529412,  0.17647059,\n",
       "         0.94117647],\n",
       "       [ 0.85714286,  0.28571429,  0.8       ,  0.73333333,  0.5       ,\n",
       "         0.42857143],\n",
       "       [ 0.85714286,  0.5       ,  0.33333333,  0.27272727,  0.33333333,\n",
       "         0.41666667],\n",
       "       [ 0.55555556,  0.52631579,  0.94736842,  0.21052632,  0.42105263,\n",
       "         0.47368421],\n",
       "       [ 0.55555556,  0.52631579,  0.94736842,  0.21052632,  0.42105263,\n",
       "         0.47368421],\n",
       "       [ 0.63157895,  0.95      ,  0.52631579,  0.57894737,  0.15      ,\n",
       "         0.15789474],\n",
       "       [ 1.        ,  0.66666667,  0.52380952,  0.35      ,  0.15      ,\n",
       "         0.95      ],\n",
       "       [ 0.78571429,  0.86666667,  0.8       ,  0.8       ,  0.53333333,\n",
       "         0.8       ],\n",
       "       [ 0.28571429,  0.28571429,  0.35714286,  0.28571429,  0.42857143,\n",
       "         0.28571429],\n",
       "       [ 0.57142857,  0.35714286,  0.46153846,  0.57142857,  0.15384615,\n",
       "         0.53846154],\n",
       "       [ 0.5       ,  0.35714286,  0.21428571,  0.42857143,  0.21428571,\n",
       "         0.46153846],\n",
       "       [ 0.85714286,  0.28571429,  0.8       ,  0.73333333,  0.5       ,\n",
       "         0.42857143],\n",
       "       [ 0.71428571,  0.14285714,  0.28571429,  0.21428571,  0.28571429,\n",
       "         0.14285714],\n",
       "       [ 0.875     ,  0.8       ,  0.625     ,  0.75      ,  0.875     ,\n",
       "         0.625     ],\n",
       "       [ 0.27272727,  0.27272727,  0.09090909,  0.1       ,  0.1       ,\n",
       "         0.1       ],\n",
       "       [ 0.52380952,  0.7826087 ,  0.77272727,  0.52173913,  0.52173913,\n",
       "         0.38095238],\n",
       "       [ 1.        ,  0.66666667,  0.52380952,  0.35      ,  0.15      ,\n",
       "         0.95      ],\n",
       "       [ 0.6875    ,  0.375     ,  0.13333333,  0.625     ,  0.125     ,\n",
       "         0.125     ],\n",
       "       [ 0.55555556,  0.52631579,  0.94736842,  0.21052632,  0.42105263,\n",
       "         0.47368421],\n",
       "       [ 0.625     ,  0.9375    ,  0.5625    ,  0.5625    ,  0.125     ,\n",
       "         0.17647059],\n",
       "       [ 0.875     ,  0.375     ,  0.1875    ,  0.17647059,  0.11764706,\n",
       "         0.17647059],\n",
       "       [ 0.6875    ,  0.375     ,  0.13333333,  0.625     ,  0.125     ,\n",
       "         0.125     ],\n",
       "       [ 0.23076923,  0.64285714,  0.61538462,  0.33333333,  0.76923077,\n",
       "         0.66666667],\n",
       "       [ 0.55      ,  0.57142857,  0.4       ,  0.55      ,  0.3       ,\n",
       "         0.0952381 ],\n",
       "       [ 0.6875    ,  0.5       ,  0.4375    ,  0.5       ,  0.375     ,\n",
       "         0.1875    ],\n",
       "       [ 0.875     ,  0.8       ,  0.625     ,  0.75      ,  0.875     ,\n",
       "         0.625     ],\n",
       "       [ 0.8125    ,  0.5625    ,  0.5       ,  0.3125    ,  0.375     ,\n",
       "         0.0625    ],\n",
       "       [ 0.85714286,  0.28571429,  0.8       ,  0.73333333,  0.5       ,\n",
       "         0.42857143],\n",
       "       [ 0.6875    ,  0.5       ,  0.4375    ,  0.5       ,  0.375     ,\n",
       "         0.1875    ],\n",
       "       [ 0.70588235,  0.38888889,  0.35294118,  0.23529412,  0.17647059,\n",
       "         0.94117647],\n",
       "       [ 0.63157895,  0.63157895,  0.94736842,  0.52631579,  0.47368421,\n",
       "         0.47368421],\n",
       "       [ 0.5       ,  0.75      ,  0.16666667,  0.23076923,  0.16666667,\n",
       "         0.16666667],\n",
       "       [ 0.1875    ,  0.35294118,  0.17647059,  0.1875    ,  0.0625    ,\n",
       "         0.0625    ],\n",
       "       [ 0.10526316,  0.3       ,  0.10526316,  0.2       ,  0.10526316,\n",
       "         0.5       ],\n",
       "       [ 0.47368421,  0.75      ,  0.65      ,  0.95238095,  0.15      ,\n",
       "         0.13636364],\n",
       "       [ 0.80952381,  0.25      ,  0.5       ,  0.65      ,  0.95      ,\n",
       "         0.42857143],\n",
       "       [ 0.77777778,  0.85      ,  0.65      ,  0.52380952,  0.52631579,\n",
       "         0.35      ],\n",
       "       [ 0.63157895,  0.5       ,  0.59090909,  0.45      ,  0.35      ,\n",
       "         0.15      ],\n",
       "       [ 0.86666667,  0.78571429,  0.86666667,  0.86666667,  1.        ,\n",
       "         0.8       ],\n",
       "       [ 0.76923077,  0.71428571,  0.35714286,  0.2       ,  0.13333333,\n",
       "         0.14285714],\n",
       "       [ 0.73684211,  0.94736842,  0.45      ,  0.3       ,  0.5       ,\n",
       "         0.4       ],\n",
       "       [ 1.        ,  0.91666667,  1.        ,  1.        ,  1.        ,\n",
       "         1.        ],\n",
       "       [ 0.64285714,  0.64285714,  0.5       ,  0.21428571,  0.07142857,\n",
       "         0.28571429],\n",
       "       [ 0.75      ,  0.5       ,  0.3125    ,  0.88235294,  0.3125    ,\n",
       "         0.75      ],\n",
       "       [ 0.72727273,  0.57142857,  0.7       ,  0.6       ,  0.76190476,\n",
       "         0.6       ],\n",
       "       [ 0.93333333,  1.        ,  1.        ,  1.        ,  1.        ,\n",
       "         0.86666667],\n",
       "       [ 1.        ,  0.47619048,  0.4       ,  0.57142857,  0.75      ,\n",
       "         0.7       ],\n",
       "       [ 0.5625    ,  0.3125    ,  0.1875    ,  0.25      ,  0.25      ,\n",
       "         0.25      ],\n",
       "       [ 0.63636364,  0.66666667,  0.23076923,  0.25      ,  0.16666667,\n",
       "         0.09090909],\n",
       "       [ 0.73684211,  0.85      ,  0.66666667,  0.57894737,  0.84210526,\n",
       "         1.        ],\n",
       "       [ 0.6875    ,  0.4375    ,  0.4375    ,  0.5       ,  0.25      ,\n",
       "         0.25      ],\n",
       "       [ 0.4       ,  0.4       ,  0.3       ,  0.2       ,  0.25      ,\n",
       "         0.95238095],\n",
       "       [ 1.        ,  0.61111111,  0.68421053,  0.84210526,  0.42105263,\n",
       "         0.31578947],\n",
       "       [ 0.75      ,  0.5       ,  0.35714286,  0.26666667,  0.26666667,\n",
       "         0.13333333],\n",
       "       [ 0.75      ,  0.75      ,  0.45      ,  0.61904762,  0.45      ,\n",
       "         0.26315789],\n",
       "       [ 1.        ,  0.68421053,  0.73684211,  0.6       ,  0.68421053,\n",
       "         0.47619048],\n",
       "       [ 0.55      ,  0.4       ,  0.95238095,  0.45      ,  0.1       ,\n",
       "         0.31578947],\n",
       "       [ 0.55      ,  0.55      ,  0.38095238,  0.95      ,  0.31818182,\n",
       "         0.75      ],\n",
       "       [ 0.8125    ,  0.86666667,  0.73333333,  0.57142857,  0.33333333,\n",
       "         1.        ],\n",
       "       [ 0.8125    ,  0.73333333,  0.66666667,  0.6       ,  0.4       ,\n",
       "         0.4       ],\n",
       "       [ 0.72222222,  0.94444444,  0.94736842,  0.61111111,  0.94444444,\n",
       "         0.72222222],\n",
       "       [ 0.61538462,  0.78571429,  0.8       ,  0.8       ,  0.8       ,\n",
       "         0.93333333],\n",
       "       [ 1.        ,  0.5       ,  0.5       ,  0.42857143,  0.85714286,\n",
       "         0.92307692],\n",
       "       [ 0.55555556,  0.77777778,  0.94444444,  0.38888889,  0.22222222,\n",
       "         0.35294118],\n",
       "       [ 0.8125    ,  0.6875    ,  0.6875    ,  0.8125    ,  0.82352941,\n",
       "         0.625     ],\n",
       "       [ 0.4       ,  0.1875    ,  0.2       ,  0.26666667,  0.13333333,\n",
       "         0.06666667],\n",
       "       [ 0.36842105,  0.47368421,  0.94736842,  0.68421053,  0.73684211,\n",
       "         0.42105263],\n",
       "       [ 0.55555556,  0.85      ,  0.5       ,  0.52631579,  0.63157895,\n",
       "         0.6       ],\n",
       "       [ 1.        ,  0.85      ,  0.63636364,  0.85      ,  0.66666667,\n",
       "         0.6       ],\n",
       "       [ 0.61538462,  0.5       ,  0.41666667,  0.41666667,  0.41666667,\n",
       "         0.25      ],\n",
       "       [ 1.        ,  0.80952381,  0.66666667,  0.42857143,  0.42857143,\n",
       "         0.3       ],\n",
       "       [ 0.75      ,  0.6875    ,  0.52941176,  0.70588235,  0.5       ,\n",
       "         0.75      ],\n",
       "       [ 0.89473684,  0.68421053,  0.68421053,  0.94736842,  0.45      ,\n",
       "         0.5       ],\n",
       "       [ 0.64705882,  0.875     ,  0.875     ,  0.88235294,  1.        ,\n",
       "         0.71428571],\n",
       "       [ 0.78947368,  0.57894737,  0.95      ,  0.68421053,  0.47368421,\n",
       "         0.57894737],\n",
       "       [ 0.61111111,  0.52631579,  0.63157895,  0.6       ,  0.4       ,\n",
       "         0.63157895],\n",
       "       [ 0.9375    ,  0.375     ,  0.25      ,  0.17647059,  0.11764706,\n",
       "         0.0625    ],\n",
       "       [ 0.30769231,  0.33333333,  0.41666667,  0.33333333,  0.46153846,\n",
       "         1.        ],\n",
       "       [ 0.89473684,  0.68421053,  0.68421053,  0.94736842,  0.45      ,\n",
       "         0.5       ],\n",
       "       [ 0.75      ,  0.95      ,  0.7       ,  0.65      ,  0.6       ,\n",
       "         0.55      ],\n",
       "       [ 0.92307692,  1.        ,  0.69230769,  0.58333333,  0.5       ,\n",
       "         0.75      ],\n",
       "       [ 0.55      ,  0.8       ,  0.95238095,  0.6       ,  0.4       ,\n",
       "         0.2       ],\n",
       "       [ 0.55      ,  0.35      ,  0.95      ,  0.15      ,  0.19047619,\n",
       "         0.05      ],\n",
       "       [ 0.84210526,  0.8       ,  0.85      ,  0.68421053,  0.85714286,\n",
       "         0.78947368],\n",
       "       [ 0.64705882,  0.875     ,  0.875     ,  0.88235294,  1.        ,\n",
       "         0.71428571],\n",
       "       [ 0.57894737,  0.45      ,  0.94736842,  0.15      ,  0.15789474,\n",
       "         0.05263158],\n",
       "       [ 0.92307692,  0.86666667,  0.35294118,  0.42857143,  0.42857143,\n",
       "         0.28571429],\n",
       "       [ 0.625     ,  0.25      ,  0.9375    ,  0.625     ,  0.375     ,\n",
       "         0.0625    ]])"
      ]
     },
     "execution_count": 41,
     "metadata": {},
     "output_type": "execute_result"
    }
   ],
   "source": [
    "x_tra"
   ]
  },
  {
   "cell_type": "code",
   "execution_count": 29,
   "metadata": {},
   "outputs": [
    {
     "data": {
      "text/plain": [
       "array([211, 204,  11, 164, 222,  58,  35, 135, 106, 226, 209, 486, 354,\n",
       "       148, 189, 322, 113,  26,  21, 177])"
      ]
     },
     "execution_count": 29,
     "metadata": {},
     "output_type": "execute_result"
    }
   ],
   "source": [
    "i_pos_tra"
   ]
  },
  {
   "cell_type": "code",
   "execution_count": 30,
   "metadata": {},
   "outputs": [
    {
     "data": {
      "text/plain": [
       "array([ 74,  46, 191, 239, 368, 151, 242, 114, 434,  18])"
      ]
     },
     "execution_count": 30,
     "metadata": {},
     "output_type": "execute_result"
    }
   ],
   "source": [
    "i_pos_val"
   ]
  },
  {
   "cell_type": "code",
   "execution_count": 27,
   "metadata": {},
   "outputs": [
    {
     "ename": "NameError",
     "evalue": "name 'random' is not defined",
     "output_type": "error",
     "traceback": [
      "\u001b[0;31m---------------------------------------------------------------------------\u001b[0m",
      "\u001b[0;31mNameError\u001b[0m                                 Traceback (most recent call last)",
      "\u001b[0;32m<ipython-input-27-3c1a7d02e06e>\u001b[0m in \u001b[0;36m<module>\u001b[0;34m()\u001b[0m\n\u001b[0;32m----> 1\u001b[0;31m \u001b[0mrandom\u001b[0m\u001b[0;34m.\u001b[0m\u001b[0msample\u001b[0m\u001b[0;34m(\u001b[0m\u001b[0mrange\u001b[0m\u001b[0;34m(\u001b[0m\u001b[0;36m10\u001b[0m\u001b[0;34m)\u001b[0m\u001b[0;34m,\u001b[0m \u001b[0;36m3\u001b[0m\u001b[0;34m)\u001b[0m\u001b[0;34m\u001b[0m\u001b[0m\n\u001b[0m",
      "\u001b[0;31mNameError\u001b[0m: name 'random' is not defined"
     ]
    }
   ],
   "source": [
    "np"
   ]
  },
  {
   "cell_type": "markdown",
   "metadata": {},
   "source": [
    "計算結果が非常につまらない．何かが間違っている気がする．1回目はまともな結果がでるが，2回目以降走らせると，何故か均質な結果しか出なくなる．変数の初期化に問題があるのだろうか？\n",
    "\n",
    "クラス内の変数が，global variableとして認識されているかどうかが気になる．→tf.global_variables)()で出力してみたが，どうやらglobal variableっぽい．\n",
    "デバッグのためにも，tensorbordを使ったほうが良さそう．"
   ]
  },
  {
   "cell_type": "code",
   "execution_count": null,
   "metadata": {
    "collapsed": true
   },
   "outputs": [],
   "source": []
  }
 ],
 "metadata": {
  "kernelspec": {
   "display_name": "Python 3",
   "language": "python",
   "name": "python3"
  },
  "language_info": {
   "codemirror_mode": {
    "name": "ipython",
    "version": 3
   },
   "file_extension": ".py",
   "mimetype": "text/x-python",
   "name": "python",
   "nbconvert_exporter": "python",
   "pygments_lexer": "ipython3",
   "version": "3.5.3"
  }
 },
 "nbformat": 4,
 "nbformat_minor": 2
}
