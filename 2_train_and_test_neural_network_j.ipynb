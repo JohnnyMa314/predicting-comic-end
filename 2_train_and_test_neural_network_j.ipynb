{
 "cells": [
  {
   "cell_type": "markdown",
   "metadata": {},
   "source": [
    "# 2. 短命作品の学習と予測\n",
    "\n",
    "　目次情報を学習して，短命作品を予測してみます．\n",
    "\n",
    "## 環境構築\n",
    "\n",
    "```bash\n",
    "conda env create -f env.yml\n",
    "source activate comic\n",
    "```\n",
    "\n",
    "## 目次データ\n",
    "\n",
    "　[0_obtain_comic_data_j.ipynb](0_obtain_comic_data_j.ipynb)で取得した`data/wj-api.json`を使います．また，[1_analyze_comic_data_j.ipynb](1_analyze_comic_data_j.ipynb)で定義した`ComicAnalyzer`を`comic.py`からimportして使います．"
   ]
  },
  {
   "cell_type": "code",
   "execution_count": 1,
   "metadata": {
    "collapsed": true
   },
   "outputs": [],
   "source": [
    "%matplotlib inline\n",
    "%config InlineBackend.figure_format = 'retina'\n",
    "\n",
    "import numpy as np\n",
    "import matplotlib.pyplot as plt\n",
    "import tensorflow as tf"
   ]
  },
  {
   "cell_type": "code",
   "execution_count": 2,
   "metadata": {
    "collapsed": true
   },
   "outputs": [],
   "source": [
    "import comic\n",
    "\n",
    "wj = comic.ComicAnalyzer()"
   ]
  },
  {
   "cell_type": "markdown",
   "metadata": {},
   "source": [
    "## 問題設定\n",
    "\n",
    "　本記事では，以下の入力をもとに，短命作品か否かを分類する問題に挑戦します．\n",
    "\n",
    "### 入力\n",
    "\n",
    "　入力として，連載開始7週目までの各週掲載順と合計カラー回数の，計8次元の情報を用います．7週目までのデータを用いるのは，近年の最短連載（8週間）の，遅くとも一週間に打ち切りを予測したいと考えたためです．掲載順だけでなくカラー回数を用いるのは，予測精度を上げるためです．直感的には，人気作品ほど，カラー回数が多い傾向があります．\n",
    "\n",
    "### 短命作品\n",
    "\n",
    "　[前編](http://qiita.com/haltaro/items/c54fa1855767f1a1abd5)では，「短命作品」を以下のように定義しました．\n",
    " \n",
    " > 本記事では，機械学習を使って，短命作品（10週以内に終了する作品）の予測を行います．\n",
    " \n",
    "しかし，改めて`wj-api.json`を分析すると，10週以内に終了する作品が極めて少ないことがわかります．"
   ]
  },
  {
   "cell_type": "code",
   "execution_count": 3,
   "metadata": {},
   "outputs": [
    {
     "data": {
      "text/plain": [
       "<matplotlib.text.Text at 0x7f6ec87c8710>"
      ]
     },
     "execution_count": 3,
     "metadata": {},
     "output_type": "execute_result"
    },
    {
     "data": {
      "image/png": "[encoded data removed]",
      "text/plain": [
       "<matplotlib.figure.Figure at 0x7f6ef97e1860>"
      ]
     },
     "metadata": {
      "image/png": {
       "height": 326,
       "width": 898
      }
     },
     "output_type": "display_data"
    }
   ],
   "source": [
    "weeks = [len(wj.extract_item(title))\n",
    "         for title in wj.end_titles]\n",
    "\n",
    "plt.figure(figsize=(15, 5))\n",
    "plt.subplot(1, 2, 1)\n",
    "_ = plt.hist(weeks, normed=True, cumulative=True, bins=max(weeks))\n",
    "plt.xlabel('Serialized weeks')\n",
    "plt.ylabel('CDF')\n",
    "\n",
    "plt.subplot(1, 2, 2)\n",
    "_ = plt.hist(weeks, normed=True, cumulative=True, bins=max(weeks))\n",
    "plt.xlim(0, 50)\n",
    "plt.xlabel('Serialized weeks')\n",
    "plt.ylabel('CDF')"
   ]
  },
  {
   "cell_type": "markdown",
   "metadata": {},
   "source": [
    "左図は全作品の累積分布であり，右図は左図の50週までに注目したものです．横軸は掲載期間，縦軸は強度です．右図から，10週までに終了した作品は10%以下であることがわかります．\n",
    "\n",
    "　[Applying deep learning to real-world problems - Merantix](https://medium.com/merantix/applying-deep-learning-to-real-world-problems-ba2d86ac5837)によると，データラベルに偏りがある場合の対処法の一つとして，ラベリングの変更が提案されています．そこで本記事では，便宜上，短命作品の定義を**20週以内に終了した作品**に変更します（10週以内に終了した作品の予測については，今後の宿題とさせてください…）．閾値を20週にすると，約半数の作品を短命作品として扱えます．"
   ]
  },
  {
   "cell_type": "markdown",
   "metadata": {},
   "source": [
    "## モデル\n",
    "\n",
    "### 多層パーセプトロン\n",
    "\n",
    "　以下は，本記事で扱う[多層パーセプトロン](https://en.wikipedia.org/wiki/Multilayer_perceptron)のモデルです．多層パーセプトロンついては，[誤差逆伝播法のノート](http://qiita.com/Ugo-Nama/items/04814a13c9ea84978a4c)が詳しいです．\n",
    "\n",
    "![model](fig/model.png)\n",
    "\n",
    "隠れ層は7ノード2層です．隠れ層の活性化関数として，[ReLU](https://ja.wikipedia.org/wiki/%E6%B4%BB%E6%80%A7%E5%8C%96%E9%96%A2%E6%95%B0#ReLU.EF.BC.88.E3.83.A9.E3.83.B3.E3.83.97.E9.96.A2.E6.95.B0.EF.BC.89)を使います．出力層は短命作品である確率を出力し，活性化関数として[Sigmoid](https://ja.wikipedia.org/wiki/%E6%B4%BB%E6%80%A7%E5%8C%96%E9%96%A2%E6%95%B0#.E3.82.B7.E3.82.B0.E3.83.A2.E3.82.A4.E3.83.89.E9.96.A2.E6.95.B0)を使います．学習には，[Adam](https://arxiv.org/abs/1412.6980)を使います．学習率$r$は，[TensorBoard](https://www.tensorflow.org/get_started/summaries_and_tensorboard)でチューニングします．\n",
    "\n",
    "### Dataset\n",
    "\n",
    "　本記事では，短命作品273作品，継続作品273作品の合計546作品を用います．新しい作品から順に100作品をtestデータ，100作品をvalidationデータ，346作品をtrainingデータとして用います．testデータは最終評価のためのデータ，validation用データはハイパーパラメータ（$r$）調整のためのデータ，trainingデータは学習のためのデータです．これらについては，[なぜ教師あり学習でバリデーションセットとテストセットを分ける必要があるのか？](http://qiita.com/QUANON/items/ae569961ea02b4468e23)がわかりやすいです．\n",
    "\n",
    "　本記事では，以下３種類の異なる方法で，trainingデータを利用します．`x_test`および`y_test`はtestデータ，`x_val`および`y_val`はvalidationデータ，`x_tra`および`y_tra`はtrainingデータを表します．\n",
    " \n",
    " ![data](fig/data.png)\n",
    " \n",
    "　Dataset 1では，trainingデータ346作品を全て学習に利用します．Dataset 2では，trainingデータのうち約半分の古い作品を除外して，学習に利用します．これは，trainingデータの一部の作品は古すぎて，現在のジャンプ編集部の打ち切り方針の学習に適さない（ノイズとなる）と考えたためです．Dataset 3では，Dataset 2をdataset augmentationにより水増しし，学習に利用します．これは，Dataset 2では学習データが少なすぎて，十分な汎化性能が得られないと考えたためです．\n",
    " \n",
    "　Dataset augmentationは，データを加工してtrainingデータを水増しするテクニックです．主に画像認識や音声認識の性能向上に効果があることが知られています．詳細は，[Deep learning bookの7.4節](http://www.deeplearningbook.org/contents/regularization.html)や，[機械学習のデータセット画像枚数を増やす方法](http://qiita.com/bohemian916/items/9630661cd5292240f8c7)をご参照ください．本記事の裏テーマは，週刊漫画雑誌の打ち切り予測におけるDataset augmentationの有効性を評価することです．当たり前ですが前例がありませんので，どのようにデータを水増しするか考える必要があります．本記事では，下図のような方法でData augmentationを行います．\n",
    " \n",
    " ![aug](fig/aug.png)\n",
    "\n",
    "　ざっくり言うと，同じラベルのデータをランダムに２つ選択し，それらのランダムな重み付き平均をとることで，新しいデータを生成します．この背後には，複数の短命作品の中間的な成績（掲載順）を持つ作品も，やはり短命作品だろうという仮定があります．直感的には，そんなに悪くない仮定に思えます．"
   ]
  },
  {
   "cell_type": "markdown",
   "metadata": {},
   "source": [
    "## 実装\n",
    "\n",
    "　多層パーセプトロンを管理するためのクラス`ComicNet()`を以下に定義します．`ComicNet()`は，各種データ（学習，検証，およびテスト）の生成，多層パーセプトロンの構築，学習，およびテストを実行できます．実装には，[TensorFlow](https://www.tensorflow.org/)を用います．[TensorFlow](https://www.tensorflow.org/)については，[特にプログラマーでもデータサイエンティストでも\bないけど、Tensorflowを1ヶ月触ったので超分かりやすく解説](http://qiita.com/tawago/items/c977c79b76c5979874e8)が詳しいです．"
   ]
  },
  {
   "cell_type": "code",
   "execution_count": 20,
   "metadata": {
    "collapsed": true
   },
   "outputs": [],
   "source": [
    "class ComicNet():\n",
    "    \"\"\" マンガ作品が短命か否かを識別する多層パーセプトロンを管理するクラスです．  \n",
    "    :param analyzer：ComicAnalyzerクラスのオブジェクト．\n",
    "    :param n_drop:学習用データから除外するデータ数\n",
    "    :param n_aug:学習用データに追加する人工データ数\n",
    "    :param thresh_week：短命作品とそれ以外を分けるしきい値．\n",
    "    :param n_x：多層パーセプトロンに入力する掲載週の数．入力層のノード数．\n",
    "    \"\"\"\n",
    "    def __init__(self, thresh_week=20, n_x=7):\n",
    "        self.n_x = n_x\n",
    "        self.thresh_week = thresh_week        \n",
    "    \n",
    "    def get_x(self, analyzer, title):\n",
    "        \"\"\"指定された作品の指定週までの正規化掲載順を取得する関数です．\"\"\"\n",
    "        worsts = np.array(analyzer.extract_item(title)[:self.n_x])\n",
    "        bests = np.array(analyzer.extract_item(title, 'best')[:self.n_x])\n",
    "        bests_normalized = bests / (worsts + bests - 1)\n",
    "        color = sum(analyzer.extract_item(title, 'color')[:self.n_x]\n",
    "                    ) /self.n_x\n",
    "        return np.append(bests_normalized, color)\n",
    "\n",
    "    def get_y(self, analyzer, title, thresh_week):\n",
    "        \"\"\"指定された作品が，短命作品か否かを取得する関数です．\"\"\"\n",
    "        return int(len(analyzer.extract_item(title)) <=  thresh_week)\n",
    "\n",
    "    def get_xs_ys(self, analyzer, titles, thresh_week):\n",
    "        \"\"\"指定された作品群の特徴量とラベルとタイトルを返す関数です．\n",
    "        　　y==0とy==1のデータ数を揃えて返します．\n",
    "        \"\"\"\n",
    "        xs = np.array([self.get_x(analyzer, title) for title in titles])\n",
    "        ys = np.array([[self.get_y(analyzer, title, thresh_week)] \n",
    "                       for title in titles])\n",
    "        \n",
    "        # ys==0とys==1のデータ数を揃えます．\n",
    "        idx_ps = np.where(ys.reshape((-1)) == 1)[0]\n",
    "        idx_ng = np.where(ys.reshape((-1)) == 0)[0]\n",
    "        len_data = min(len(idx_ps), len(idx_ng))\n",
    "        x_ps = xs[idx_ps[-len_data:]]\n",
    "        x_ng = xs[idx_ng[-len_data:]]\n",
    "        y_ps = ys[idx_ps[-len_data:]]\n",
    "        y_ng = ys[idx_ng[-len_data:]]\n",
    "        t_ps = [titles[ii] for ii in idx_ps[-len_data:]]\n",
    "        t_ng = [titles[ii] for ii in idx_ng[-len_data:]]\n",
    "        \n",
    "        return x_ps, x_ng, y_ps, y_ng, t_ps, t_ng\n",
    "        \n",
    "    def augment_x(self, x, n_aug):\n",
    "    \"\"\"指定された数のxデータを人為的に生成する関数です．\"\"\"\n",
    "        if n_aug:\n",
    "            x_pair = np.array(\n",
    "                [[x[idx] for idx in \n",
    "                  np.random.choice(range(len(x)), 2, replace=False)]\n",
    "                 for _ in range(n_aug)])\n",
    "            weights = np.random.rand(n_aug, 1, self.n_x + 1)\n",
    "            weights = np.concatenate((weights, 1 - weights), axis=1)\n",
    "            x_aug = (x_pair * weights).sum(axis=1)\n",
    "            \n",
    "            return np.concatenate((x, x_aug), axis=0)\n",
    "        else:\n",
    "            return x\n",
    "        \n",
    "    def augment_y(self, y, n_aug):\n",
    "    \"\"\"指定された数のyデータを人為的に生成する関数です．\"\"\"\n",
    "        if n_aug:\n",
    "            y_aug = np.ones((n_aug, 1)) if y[0, 0] \\\n",
    "                else np.zeros((n_aug, 1))\n",
    "            return np.concatenate((y, y_aug), axis=0)\n",
    "        else:\n",
    "            return y\n",
    "        \n",
    "    def configure_dataset(self, analyzer, n_drop=0, n_aug=0):\n",
    "        \"\"\"データセットを設定する関数です．\n",
    "        :param analyzer: ComicAnalyzerクラスのインスタンス\n",
    "        :param n_drop: trainingデータから除外する古いデータの数\n",
    "        :param n_aug: trainingデータに追加するaugmentedデータの数\n",
    "        \"\"\"\n",
    "        x_ps, x_ng, y_ps, y_ng, t_ps, t_ng = self.get_xs_ys(\n",
    "            analyzer, analyzer.end_titles, self.thresh_week)\n",
    "        self.x_test = np.concatenate((x_ps[-50:], x_ng[-50:]), axis=0)\n",
    "        self.y_test = np.concatenate((y_ps[-50:], y_ng[-50:]), axis=0)\n",
    "        self.titles_test = t_ps[-50:] + t_ng[-50:]\n",
    "        self.x_val = np.concatenate((x_ps[-100 : -50], \n",
    "                                     x_ng[-100 : -50]), axis=0)\n",
    "        self.y_val = np.concatenate((y_ps[-100 : -50], \n",
    "                                     y_ng[-100 : -50]), axis=0)\n",
    "        self.x_tra = np.concatenate(\n",
    "            (self.augment_x(x_ps[n_drop//2 : -100], n_aug//2), \n",
    "             self.augment_x(x_ng[n_drop//2 : -100], n_aug//2)), axis=0)\n",
    "        self.y_tra = np.concatenate(\n",
    "            (self.augment_y(y_ps[n_drop//2 : -100], n_aug//2), \n",
    "             self.augment_y(y_ng[n_drop//2 : -100], n_aug//2)), axis=0)\n",
    "    \n",
    "    def build_graph(self, r=0.001, n_h=7, stddev=0.01):\n",
    "        \"\"\"多層パーセプトロンを構築する関数です．\n",
    "        :param r: 学習率\n",
    "        :param n_h: 隠れ層のノード数\n",
    "        :param stddev: 変数の初期分布の標準偏差\n",
    "        \"\"\"\n",
    "        tf.reset_default_graph()\n",
    "        \n",
    "        # 入力層およびターゲット\n",
    "        n_y = self.y_test.shape[1]\n",
    "        self.x = tf.placeholder(tf.float32, [None, self.n_x + 1], name='x')\n",
    "        self.y = tf.placeholder(tf.float32, [None, n_y], name='y')\n",
    "        \n",
    "        # 隠れ層（１層目）\n",
    "        self.w_h_1 = tf.Variable(\n",
    "            tf.truncated_normal((self.n_x + 1, n_h), stddev=stddev))\n",
    "        self.b_h_1 = tf.Variable(tf.zeros(n_h))\n",
    "        self.logits = tf.add(tf.matmul(self.x, self.w_h_1), self.b_h_1)\n",
    "        self.logits = tf.nn.relu(self.logits)\n",
    "        \n",
    "        # 隠れ層（２層目）\n",
    "        self.w_h_2 = tf.Variable(\n",
    "            tf.truncated_normal((n_h, n_h), stddev=stddev))\n",
    "        self.b_h_2 = tf.Variable(tf.zeros(n_h))\n",
    "        self.logits = tf.add(tf.matmul(self.logits, self.w_h_2), self.b_h_2)\n",
    "        self.logits = tf.nn.relu(self.logits)\n",
    "        \n",
    "        # 出力層\n",
    "        self.w_y = tf.Variable(\n",
    "            tf.truncated_normal((n_h, n_y), stddev=stddev))\n",
    "        self.b_y = tf.Variable(tf.zeros(n_y))\n",
    "        self.logits = tf.add(tf.matmul(self.logits, self.w_y), self.b_y)\n",
    "        tf.summary.histogram('logits', self.logits)\n",
    "        \n",
    "        # 損失関数\n",
    "        self.loss = tf.reduce_mean(\n",
    "            tf.nn.sigmoid_cross_entropy_with_logits(\n",
    "                logits=self.logits, labels=self.y))\n",
    "        tf.summary.scalar('loss', self.loss)\n",
    "        \n",
    "        # 最適化\n",
    "        self.optimizer = tf.train.AdamOptimizer(r).minimize(self.loss)\n",
    "        self.output = tf.nn.sigmoid(self.logits, name='output')\n",
    "        correct_prediction = tf.equal(self.y, tf.round(self.output))\n",
    "        self.acc = tf.reduce_mean(tf.cast(correct_prediction, tf.float32),\n",
    "            name='acc')\n",
    "        tf.summary.histogram('output', self.output)\n",
    "        tf.summary.scalar('acc', self.acc)\n",
    "        \n",
    "        self.merged = tf.summary.merge_all()\n",
    "            \n",
    "        \n",
    "    def train(self, epoch=2000, print_loss=False, save_log=False, \n",
    "              log_dir='./logs/1', log_name='', save_model=False,\n",
    "              model_name='prediction_model'):\n",
    "        \"\"\"多層パーセプトロンを学習させ，ログや学習済みモデルを保存する関数です．\n",
    "        :param epoch: エポック数\n",
    "        :pram print_loss: 損失関数の履歴を出力するか否か\n",
    "        :param save_log: ログを保存するか否か\n",
    "        :param log_dir: ログの保存ディレクトリ\n",
    "        :param log_name: ログの保存名\n",
    "        :param save_model: 学習済みモデルを保存するか否か\n",
    "        :param model_name: 学習済みモデルの保存名\n",
    "        \"\"\"\n",
    "        with tf.Session() as sess:\n",
    "            sess.run(tf.global_variables_initializer()) # 変数の初期化\n",
    "            \n",
    "            # ログ保存用の設定\n",
    "            log_tra = log_dir + '/tra/' + log_name \n",
    "            writer_tra = tf.summary.FileWriter(log_tra)\n",
    "            log_val = log_dir + '/val/' + log_name\n",
    "            writer_val = tf.summary.FileWriter(log_val)        \n",
    "\n",
    "            for e in range(epoch):\n",
    "                feed_dict = {self.x: self.x_tra, self.y: self.y_tra}\n",
    "                _, loss_tra, acc_tra, mer_tra = sess.run(\n",
    "                        (self.optimizer, self.loss, self.acc, self.merged), \n",
    "                        feed_dict=feed_dict)\n",
    "                \n",
    "                # validation\n",
    "                feed_dict = {self.x: self.x_val, self.y: self.y_val}\n",
    "                loss_val, acc_val, mer_val = sess.run(\n",
    "                    (self.loss, self.acc, self.merged),\n",
    "                    feed_dict=feed_dict)\n",
    "                \n",
    "                # ログの保存\n",
    "                if save_log:\n",
    "                    writer_tra.add_summary(mer_tra, e)\n",
    "                    writer_val.add_summary(mer_val, e)\n",
    "                \n",
    "                # 損失関数の出力\n",
    "                if print_loss and e % 500 == 0:\n",
    "                    print('# epoch {}: loss_tra = {}, loss_val = {}'.\n",
    "                          format(e, str(loss_tra), str(loss_val)))\n",
    "            \n",
    "            # モデルの保存\n",
    "            if save_model:\n",
    "                saver = tf.train.Saver()\n",
    "                _ = saver.save(sess, './models/' + model_name)\n",
    "            \n",
    "            \n",
    "    def test(self, model_name='prediction_model'):\n",
    "        \"\"\"指定されたモデルを読み込み，テストする関数です．\n",
    "        :param model_name: 読み込むモデルの名前\n",
    "        \"\"\"\n",
    "        tf.reset_default_graph()\n",
    "        loaded_graph = tf.Graph()\n",
    "        \n",
    "        with tf.Session(graph=loaded_graph) as sess:\n",
    "            \n",
    "            # モデルの読み込み\n",
    "            loader = tf.train.import_meta_graph(\n",
    "                './models/{}.meta'.format(model_name))\n",
    "            loader.restore(sess, './models/' + model_name)\n",
    "            \n",
    "            x_loaded = loaded_graph.get_tensor_by_name('x:0')\n",
    "            y_loaded = loaded_graph.get_tensor_by_name('y:0')\n",
    "            \n",
    "            loss_loaded = loaded_graph.get_tensor_by_name('loss:0')\n",
    "            acc_loaded = loaded_graph.get_tensor_by_name('acc:0')\n",
    "            output_loaded = loaded_graph.get_tensor_by_name('output:0')\n",
    "        \n",
    "            # test\n",
    "            feed_dict = {x_loaded: self.x_test, y_loaded: self.y_test}\n",
    "            loss_test, acc_test, output_test = sess.run(\n",
    "                (loss_loaded, acc_loaded, output_loaded), feed_dict=feed_dict)\n",
    "            return acc_test, output_test"
   ]
  },
  {
   "cell_type": "markdown",
   "metadata": {},
   "source": [
    "## 実験\n",
    "### ハイパーパラメータ（学習率r，epoch数）の調整\n",
    "　　[TensorBoard](https://www.tensorflow.org/get_started/summaries_and_tensorboard)を使ってハイパーパラメータ（学習率$r$とepoch数）をチューニングします．いろいろ遊べますが，本記事では，validationデータのaccuracy（正解率）とloss（損失関数の出力）を可視化することで，ハイパーパラメータの調整を行います．TensorBoardの詳細は[公式](https://www.tensorflow.org/get_started/summaries_and_tensorboard)をご参照ください．"
   ]
  },
  {
   "cell_type": "code",
   "execution_count": 16,
   "metadata": {
    "collapsed": true
   },
   "outputs": [],
   "source": [
    "rs = [n * 10 ** m for m in range(-4, -1) for n in range(1, 10)]"
   ]
  },
  {
   "cell_type": "code",
   "execution_count": 17,
   "metadata": {
    "collapsed": true
   },
   "outputs": [],
   "source": [
    "datasets = [\n",
    "    {'n_drop':0, 'n_aug':0},\n",
    "    {'n_drop':173, 'n_aug':0},\n",
    "    {'n_drop':173, 'n_aug':173},\n",
    "]"
   ]
  },
  {
   "cell_type": "code",
   "execution_count": 21,
   "metadata": {},
   "outputs": [
    {
     "name": "stdout",
     "output_type": "stream",
     "text": [
      "Saved log of dataset=1, r=0.0001\n",
      "Saved log of dataset=1, r=0.0002\n",
      "Saved log of dataset=1, r=0.00030000000000000003\n",
      "Saved log of dataset=1, r=0.0004\n",
      "Saved log of dataset=1, r=0.0005\n",
      "Saved log of dataset=1, r=0.0006000000000000001\n",
      "Saved log of dataset=1, r=0.0007\n",
      "Saved log of dataset=1, r=0.0008\n",
      "Saved log of dataset=1, r=0.0009000000000000001\n",
      "Saved log of dataset=1, r=0.001\n",
      "Saved log of dataset=1, r=0.002\n",
      "Saved log of dataset=1, r=0.003\n",
      "Saved log of dataset=1, r=0.004\n",
      "Saved log of dataset=1, r=0.005\n",
      "Saved log of dataset=1, r=0.006\n",
      "Saved log of dataset=1, r=0.007\n",
      "Saved log of dataset=1, r=0.008\n",
      "Saved log of dataset=1, r=0.009000000000000001\n",
      "Saved log of dataset=1, r=0.01\n",
      "Saved log of dataset=1, r=0.02\n",
      "Saved log of dataset=1, r=0.03\n",
      "Saved log of dataset=1, r=0.04\n",
      "Saved log of dataset=1, r=0.05\n",
      "Saved log of dataset=1, r=0.06\n",
      "Saved log of dataset=1, r=0.07\n",
      "Saved log of dataset=1, r=0.08\n",
      "Saved log of dataset=1, r=0.09\n",
      "Saved log of dataset=2, r=0.0001\n",
      "Saved log of dataset=2, r=0.0002\n",
      "Saved log of dataset=2, r=0.00030000000000000003\n",
      "Saved log of dataset=2, r=0.0004\n",
      "Saved log of dataset=2, r=0.0005\n",
      "Saved log of dataset=2, r=0.0006000000000000001\n",
      "Saved log of dataset=2, r=0.0007\n",
      "Saved log of dataset=2, r=0.0008\n",
      "Saved log of dataset=2, r=0.0009000000000000001\n",
      "Saved log of dataset=2, r=0.001\n",
      "Saved log of dataset=2, r=0.002\n",
      "Saved log of dataset=2, r=0.003\n",
      "Saved log of dataset=2, r=0.004\n",
      "Saved log of dataset=2, r=0.005\n",
      "Saved log of dataset=2, r=0.006\n",
      "Saved log of dataset=2, r=0.007\n",
      "Saved log of dataset=2, r=0.008\n",
      "Saved log of dataset=2, r=0.009000000000000001\n",
      "Saved log of dataset=2, r=0.01\n",
      "Saved log of dataset=2, r=0.02\n",
      "Saved log of dataset=2, r=0.03\n",
      "Saved log of dataset=2, r=0.04\n",
      "Saved log of dataset=2, r=0.05\n",
      "Saved log of dataset=2, r=0.06\n",
      "Saved log of dataset=2, r=0.07\n",
      "Saved log of dataset=2, r=0.08\n",
      "Saved log of dataset=2, r=0.09\n",
      "Saved log of dataset=3, r=0.0001\n",
      "Saved log of dataset=3, r=0.0002\n",
      "Saved log of dataset=3, r=0.00030000000000000003\n",
      "Saved log of dataset=3, r=0.0004\n",
      "Saved log of dataset=3, r=0.0005\n",
      "Saved log of dataset=3, r=0.0006000000000000001\n",
      "Saved log of dataset=3, r=0.0007\n",
      "Saved log of dataset=3, r=0.0008\n",
      "Saved log of dataset=3, r=0.0009000000000000001\n",
      "Saved log of dataset=3, r=0.001\n",
      "Saved log of dataset=3, r=0.002\n",
      "Saved log of dataset=3, r=0.003\n",
      "Saved log of dataset=3, r=0.004\n",
      "Saved log of dataset=3, r=0.005\n",
      "Saved log of dataset=3, r=0.006\n",
      "Saved log of dataset=3, r=0.007\n",
      "Saved log of dataset=3, r=0.008\n",
      "Saved log of dataset=3, r=0.009000000000000001\n",
      "Saved log of dataset=3, r=0.01\n",
      "Saved log of dataset=3, r=0.02\n",
      "Saved log of dataset=3, r=0.03\n",
      "Saved log of dataset=3, r=0.04\n",
      "Saved log of dataset=3, r=0.05\n",
      "Saved log of dataset=3, r=0.06\n",
      "Saved log of dataset=3, r=0.07\n",
      "Saved log of dataset=3, r=0.08\n",
      "Saved log of dataset=3, r=0.09\n"
     ]
    }
   ],
   "source": [
    "wjnet = ComicNet()\n",
    "for i, dataset in enumerate(datasets):\n",
    "    wjnet.configure_dataset(wj, n_drop=dataset['n_drop'], \n",
    "                            n_aug=dataset['n_aug'])\n",
    "    log_dir = './logs/dataset={}/'.format(i + 1)\n",
    "    for r in rs:\n",
    "        log_name = str(r)\n",
    "        wjnet.build_graph(r=r)\n",
    "        wjnet.train(epoch=20000, save_log=True, log_dir=log_dir, \n",
    "                log_name=log_name)\n",
    "        print('Saved log of dataset={}, r={}'.format(i + 1, r))"
   ]
  },
  {
   "cell_type": "code",
   "execution_count": null,
   "metadata": {
    "collapsed": true
   },
   "outputs": [],
   "source": []
  },
  {
   "cell_type": "markdown",
   "metadata": {},
   "source": [
    "以下，要修正．"
   ]
  },
  {
   "cell_type": "code",
   "execution_count": null,
   "metadata": {
    "collapsed": true
   },
   "outputs": [],
   "source": []
  },
  {
   "cell_type": "markdown",
   "metadata": {},
   "source": [
    "Dataset 1について，validationデータのaccracyとlossを見てみます．\n",
    "\n",
    "```\n",
    "tensorboard --logdir=./logs/dataset=1/val\n",
    "```\n",
    "\n",
    "　下図は，全てのrのValidation accuracyを示します．横軸はepochです．微妙なところですが，緑色のr=0.0005が筋が良さそうなことがわかります．\n",
    "\n",
    "![valacc](fig/valacc.png)\n",
    "\n",
    "　次は，epoch数を調整します．下図は，r=0.0005のValidation accuracyとVaridation lossを示したものです．accuracyは大きいほど良く，lossは小さいほど良いです．一般的に，epoch数が大きすぎると，モデルがtrainingデータを過学習（overfitting）し，validationデータに対する性能が悪くなります．逆に，epoch数が小さすぎると，学習が進まず，validationデータに対する性能が悪くなります．教科書的には，Validation accuracyが最大となり，かつValidation lossが最小となるepochが学習の止め時とされています．\n",
    "\n",
    "![r=0.0005](fig/r=0.0005.png)\n",
    "\n",
    "　難しいですね…．**こういう時って，どうすれば良いんでしょう？**とりあえず，Validation accuracyが最大となる$epoch=8000$を採用することにします．\n",
    " \n",
    "　他のDatasetについても同様に，学習率rとepoch数を調整します．Dataset 2は$r=0.03$かつ$epoch=2000$を，Dataset 3は$r=0.004$かつ$epoch=4000$を採用することにします．"
   ]
  },
  {
   "cell_type": "markdown",
   "metadata": {},
   "source": [
    "### Training\n",
    "　それぞれのDatasetに対して，上記で調整したハイパーパラメータで学習を行い，モデルを保存します．"
   ]
  },
  {
   "cell_type": "code",
   "execution_count": 15,
   "metadata": {},
   "outputs": [
    {
     "name": "stdout",
     "output_type": "stream",
     "text": [
      "Trained 1\n",
      "Trained 2\n",
      "Trained 3\n"
     ]
    }
   ],
   "source": [
    "params = [\n",
    "    {'n_drop':0, 'n_aug':0, 'r':0.0005, \n",
    "     'e': 8000, 'name':'1: Original'},\n",
    "    {'n_drop':173, 'n_aug':0, 'r':0.03, \n",
    "     'e': 2000, 'name':'2: Filterd'},\n",
    "    {'n_drop':173, 'n_aug':173, 'r':0.004, \n",
    "     'e': 4000, 'name':'3: Filterd+Augmented'}\n",
    "]\n",
    "\n",
    "for p, param in enumerate(params):\n",
    "    model_name = str(p + 1)\n",
    "    wjnet = ComicNet(wj, n_drop=param['n_drop'],\n",
    "                     n_aug=param['n_aug'])\n",
    "    wjnet.build_graph(r=param['r'])\n",
    "    wjnet.train(save_model=True, model_name=model_name, epoch=param['e'])\n",
    "    print('Trained', model_name)"
   ]
  },
  {
   "cell_type": "markdown",
   "metadata": {
    "collapsed": true
   },
   "source": [
    "### Test\n",
    "　`ComicNet.test()`で性能を評価します．"
   ]
  },
  {
   "cell_type": "code",
   "execution_count": 17,
   "metadata": {},
   "outputs": [
    {
     "name": "stdout",
     "output_type": "stream",
     "text": [
      "Test model=1: Original: acc=0.5600000023841858\n",
      "Test model=2: Filterd: acc=0.5899999737739563\n",
      "Test model=3: Filterd+Augmented: acc=0.6100000143051147\n"
     ]
    }
   ],
   "source": [
    "accs = []\n",
    "outputs = []\n",
    "for p, param in enumerate(params):\n",
    "    model_name = str(p + 1)\n",
    "    acc, output = wjnet.test(model_name)\n",
    "    accs.append(acc)\n",
    "    outputs.append(output)\n",
    "    print('Test model={}: acc={}'.format(param['name'], acc))    "
   ]
  },
  {
   "cell_type": "code",
   "execution_count": 42,
   "metadata": {},
   "outputs": [
    {
     "data": {
      "text/plain": [
       "<matplotlib.text.Text at 0x7fdda4751ba8>"
      ]
     },
     "execution_count": 42,
     "metadata": {},
     "output_type": "execute_result"
    },
    {
     "data": {
      "image/png": "[encoded data removed]",
      "text/plain": [
       "<matplotlib.figure.Figure at 0x7fdda4741320>"
      ]
     },
     "metadata": {
      "image/png": {
       "height": 257,
       "width": 393
      }
     },
     "output_type": "display_data"
    }
   ],
   "source": [
    "plt.bar(range(3), accs, tick_label=[param['name'] for param in params])\n",
    "plt.ylabel('Accuracy')"
   ]
  },
  {
   "cell_type": "markdown",
   "metadata": {
    "collapsed": true
   },
   "source": [
    "　ランダムに分類しても$acc=0.5$となるはずなので，微妙な結果となってしまいました…．しかし，FilterとAugmentationの効果が確認できたのは，不幸中の幸いです．\n",
    " \n",
    "## 考察\n",
    "\n",
    "　最も性能の良いモデル３（Filterd+Augmented）の結果をもう少し掘り下げます．"
   ]
  },
  {
   "cell_type": "code",
   "execution_count": 43,
   "metadata": {},
   "outputs": [
    {
     "data": {
      "text/plain": [
       "<matplotlib.legend.Legend at 0x7fdda41dbef0>"
      ]
     },
     "execution_count": 43,
     "metadata": {},
     "output_type": "execute_result"
    },
    {
     "data": {
      "image/png": "[encoded data removed]",
      "text/plain": [
       "<matplotlib.figure.Figure at 0x7fdda47a9080>"
      ]
     },
     "metadata": {
      "image/png": {
       "height": 337,
       "width": 893
      }
     },
     "output_type": "display_data"
    }
   ],
   "source": [
    "output = np.array(outputs[2])\n",
    "output_long = output[wjnet.y_test.reshape((-1))==0]\n",
    "output_short = output[wjnet.y_test.reshape((-1))==1]\n",
    "\n",
    "plt.figure(figsize=(15, 5))\n",
    "plt.subplot(1, 2, 1)\n",
    "plt.hist(output_long[output_long < 0.5], bins=20, \n",
    "         color='b', label='True negative')\n",
    "plt.hist(output_long[output_long >= 0.5], bins=20, \n",
    "         color='r', label='False negative')\n",
    "plt.ylabel('Frequency')\n",
    "plt.xlabel('Output')\n",
    "plt.title('Output of long titles')\n",
    "plt.legend()\n",
    "\n",
    "plt.subplot(1, 2, 2)\n",
    "plt.hist(output_short[output_short >= 0.5], bins=20, \n",
    "         color='b', label='True positive')\n",
    "plt.hist(output_short[output_short < 0.5], bins=20, \n",
    "         color='r', label='False positive')\n",
    "plt.ylabel('Frequency')\n",
    "plt.xlabel('Output')\n",
    "plt.title('Output of short titles')\n",
    "plt.legend()"
   ]
  },
  {
   "cell_type": "markdown",
   "metadata": {},
   "source": [
    "特に気になるのが，False positive（つまり，実際は短命作品なのに，継続作品と分類"
   ]
  },
  {
   "cell_type": "code",
   "execution_count": null,
   "metadata": {
    "collapsed": true
   },
   "outputs": [],
   "source": []
  },
  {
   "cell_type": "code",
   "execution_count": null,
   "metadata": {
    "collapsed": true
   },
   "outputs": [],
   "source": []
  },
  {
   "cell_type": "code",
   "execution_count": 44,
   "metadata": {},
   "outputs": [
    {
     "data": {
      "text/plain": [
       "592"
      ]
     },
     "execution_count": 44,
     "metadata": {},
     "output_type": "execute_result"
    }
   ],
   "source": [
    "len(wj.end_titles)"
   ]
  },
  {
   "cell_type": "code",
   "execution_count": 45,
   "metadata": {},
   "outputs": [
    {
     "data": {
      "text/plain": [
       "546"
      ]
     },
     "execution_count": 45,
     "metadata": {},
     "output_type": "execute_result"
    }
   ],
   "source": [
    "len(wjnet.y_test) + len(wjnet.y_val) + len(wjnet.y_tra)"
   ]
  },
  {
   "cell_type": "code",
   "execution_count": null,
   "metadata": {
    "collapsed": true
   },
   "outputs": [],
   "source": []
  },
  {
   "cell_type": "markdown",
   "metadata": {
    "collapsed": true
   },
   "source": [
    "以下，記事の下書き．ある程度性能がでるようになったら，記事として清書しよう．少し冗長すぎる気がするので，的を絞って記述しよう．"
   ]
  },
  {
   "cell_type": "markdown",
   "metadata": {},
   "source": [
    "　以下では，簡単に`ComicNet`を解説します．TensorFlowの考え方については，[TensorFlowのキーコンセプト: Opノード、セッション、変数](http://qiita.com/yanosen_jp/items/70e6d6afc36e1c0a3ef3)が詳しいです．\n",
    "\n",
    "### データの生成：`get_x()`，`get_y()`，`get_xs_ys()`\n",
    "\n",
    "　`get_x()`は，0から1の間に正規化された掲載順を返します．`get_y()`は，短命作品か（`1`）否か（`0`）を返します．`get_xs_ys()`は，内部で`get_x()`および`get_y()`を呼び出し，複数タイトルの`x`および`y`を返します．\n",
    " \n",
    "　`ComicNet`は初期化時に，trainingデータ（`x_tra`，`y_tra`），validationデータ（`x_val`，`y_val`），およびtestデータ（`x_test`，`y_test`）を生成します．trainingデータは，文字通りモデルの学習に用いるデータです．検証用データは，モデルの汎化性能を一時的に評価するため（trainingデータへの過学習を防ぐため）のデータであり，ハイパーパラメータの調整時に利用します．testデータは，ハイパーパラメータ調整後のモデルの性能を評価するためのデータです．これらについては，[なぜ教師あり学習でバリデーションセットとテストセットを分ける必要があるのか？](http://qiita.com/QUANON/items/ae569961ea02b4468e23)がわかりやすいです．今回は，`wj.end_titles`のうち，最新100件をtestデータ，残りの最新`batch_size`件をvalidationデータ，残りをtrainデータとして用います．\n",
    "\n",
    "### データグラフの構築：`build_graph()`\n",
    "\n",
    "　入力層では，`tf.placeholder`で入力テンソル（`x`）や教師ラベルテンソル（`y`）をを定義します．\n",
    " \n",
    "　隠れ層では，`tf.Variable`で重みテンソル（`w_h_1`，`w_h_2`，`w_h_3`）やバイアス（`b_h_1`，`b_h_2`，`b_h_3`）を定義します．ここでは，`Variable`の初期分布として[`tf.truncated_normal`](https://www.tensorflow.org/api_docs/python/tf/truncated_normal)を与えています．`truncated_normal`は，2シグマより外の値を除外した正規分布であり，好んでよく使われます．実は，この`truncated_normal`の標準偏差は，モデルの性能を左右する重要なハイパーパラメータの一つですが，今回は簡単のため`0.05`に固定します．[`tf.add`](https://www.tensorflow.org/api_docs/python/tf/add)，[`tf.matmul`](https://www.tensorflow.org/api_docs/python/tf/matmul)，[`tf.nn.relu`](https://www.tensorflow.org/api_docs/python/tf/nn/relu)を使って，テンソル同士を結合し，隠れ層を形作っていきます．ちなみに，[`tf.nn.relu`](https://www.tensorflow.org/api_docs/python/tf/nn/relu)を[`tf.nn.sigmoid`](https://www.tensorflow.org/api_docs/python/tf/sigmoid#tfnnsigmoid)に書き換れば，活性化関数として[Sigmoid](https://ja.wikipedia.org/wiki/%E6%B4%BB%E6%80%A7%E5%8C%96%E9%96%A2%E6%95%B0#.E3.82.B7.E3.82.B0.E3.83.A2.E3.82.A4.E3.83.89.E9.96.A2.E6.95.B0)を使うことができます．TensorFlowで使用可能な活性化関数については，[こちら](https://www.tensorflow.org/versions/r0.11/api_docs/python/nn/activation_functions_)をご参照ください．[`tf.summary.histgram`](https://www.tensorflow.org/api_docs/python/tf/summary/histogram)に`tf.Variable`を渡すことで，TensorBoardでヒストグラムを確認できるようになります．\n",
    "  \n",
    "　出力層では，基本的に潜れ層と同様の処理を行います．損失関数[`tf.nn.sigmoid_cross_entropy_with_logits`](https://www.tensorflow.org/api_docs/python/tf/nn/sigmoid_cross_entropy_with_logits)の内部に活性化関数（sigmoid）を含むため，出力層では特に活性化関数を使う必要がないことにご注意ください．[`tf.summary.scalar`](https://www.tensorflow.org/api_docs/python/tf/summary/scalar)に`tf.Variable`を渡すことで，TensorBoardで時変化を確認できるようになります．\n",
    " \n",
    "　最適化アルゴリズムとして，[`tf.train.AdamOptimizer`](https://www.tensorflow.org/api_docs/python/tf/train/AdamOptimizer)を使います．TensorFlowで使用可能な最適化アルゴリズムについては，[こちら](https://www.tensorflow.org/versions/r0.12/api_docs/python/train/)をご参照ください．最終的な出力値`logits`を四捨五入し（つまり閾値0.5で判定し），教師ラベル`y`に対する正解率を`acc`として計算しています．最後に，全ての[`tf.summary.merge_all`](https://www.tensorflow.org/api_docs/python/tf/summary/merge_all)で全てのログ情報をマージします．\n",
    "\n",
    "### 学習：`train()`\n",
    "\n",
    "　TensorFlowでは，[`tf.Session`](https://www.tensorflow.org/api_docs/python/tf/Session)中で学習を行います．必ず，[`tf.global_variables_initializer()`](https://www.tensorflow.org/api_docs/python/tf/global_variables_initializer)で`Variable`の初期化を行う必要があります（これがないと怒られます）．\n",
    " \n",
    " 　`sess.run(self.optimizer)`によって，モデルを学習します．`sess.run`の第一引数は，タプルによって複数指定することが可能です．また，`sess.run()`時に，辞書形式で`placeholder`に値を代入する必要があります．Training時は`x_tra_batch`と`x_tra_batch`を代入し，Validation時は`x_val`と`y_val`を代入します．\n",
    "\n",
    "　[`tf.summary.FileWriter`](https://www.tensorflow.org/api_docs/python/tf/summary/FileWriter)で，TensorBoard用のログ情報を保存できます．また，[`tf.train.Saver`](https://www.tensorflow.org/api_docs/python/tf/train/Saver)で学習後のモデルを保存できます．\n",
    "\n",
    "### テスト：`test()`\n",
    "\n",
    "　`test()`は，学習済みの多層パーセプトロンをテストするメンバ関数です．[`tf.train.import_meta_graph`](https://www.tensorflow.org/api_docs/python/tf/train/import_meta_graph)を使って，学習済みのモデルを読み込みます．testデータ（`x_test`，`y_test`）を`feed_dict`に与え，`sess.run`します．"
   ]
  },
  {
   "cell_type": "markdown",
   "metadata": {},
   "source": [
    "## 実験1.  短命作品（10週以内）の予測\n",
    "\n",
    "　当初の目的である短命作品（10週以内）の予測に挑戦します．\n",
    "\n",
    "### ハイパーパラメータの調整\n",
    "　[TensorBoard](https://www.tensorflow.org/get_started/summaries_and_tensorboard)を使ってハイパーパラメータ（隠れ層のノード数$n$と，学習率$r$）をチューニングします．TensorBoardの詳細は[公式](https://www.tensorflow.org/get_started/summaries_and_tensorboard)をご参照ください．いろいろ遊べますが，本記事では，validationデータの正解率と損失関数を可視化することで，ハイパーパラメータの調整を行います．"
   ]
  },
  {
   "cell_type": "code",
   "execution_count": 11,
   "metadata": {},
   "outputs": [
    {
     "name": "stdout",
     "output_type": "stream",
     "text": [
      "Saved log of model=1, r=0.1, n=1\n",
      "Saved log of model=1, r=0.1, n=2\n",
      "Saved log of model=1, r=0.1, n=3\n",
      "Saved log of model=1, r=0.1, n=4\n",
      "Saved log of model=1, r=0.1, n=5\n",
      "Saved log of model=1, r=0.1, n=6\n",
      "Saved log of model=1, r=0.1, n=7\n",
      "Saved log of model=1, r=0.05, n=1\n",
      "Saved log of model=1, r=0.05, n=2\n",
      "Saved log of model=1, r=0.05, n=3\n",
      "Saved log of model=1, r=0.05, n=4\n",
      "Saved log of model=1, r=0.05, n=5\n",
      "Saved log of model=1, r=0.05, n=6\n",
      "Saved log of model=1, r=0.05, n=7\n",
      "Saved log of model=1, r=0.01, n=1\n",
      "Saved log of model=1, r=0.01, n=2\n",
      "Saved log of model=1, r=0.01, n=3\n",
      "Saved log of model=1, r=0.01, n=4\n",
      "Saved log of model=1, r=0.01, n=5\n",
      "Saved log of model=1, r=0.01, n=6\n",
      "Saved log of model=1, r=0.01, n=7\n",
      "Saved log of model=1, r=0.005, n=1\n",
      "Saved log of model=1, r=0.005, n=2\n",
      "Saved log of model=1, r=0.005, n=3\n",
      "Saved log of model=1, r=0.005, n=4\n",
      "Saved log of model=1, r=0.005, n=5\n",
      "Saved log of model=1, r=0.005, n=6\n",
      "Saved log of model=1, r=0.005, n=7\n",
      "Saved log of model=1, r=0.001, n=1\n",
      "Saved log of model=1, r=0.001, n=2\n",
      "Saved log of model=1, r=0.001, n=3\n",
      "Saved log of model=1, r=0.001, n=4\n",
      "Saved log of model=1, r=0.001, n=5\n",
      "Saved log of model=1, r=0.001, n=6\n",
      "Saved log of model=1, r=0.001, n=7\n",
      "Saved log of model=2, r=0.1, n=1\n",
      "Saved log of model=2, r=0.1, n=2\n",
      "Saved log of model=2, r=0.1, n=3\n",
      "Saved log of model=2, r=0.1, n=4\n",
      "Saved log of model=2, r=0.1, n=5\n",
      "Saved log of model=2, r=0.1, n=6\n",
      "Saved log of model=2, r=0.1, n=7\n",
      "Saved log of model=2, r=0.05, n=1\n",
      "Saved log of model=2, r=0.05, n=2\n",
      "Saved log of model=2, r=0.05, n=3\n",
      "Saved log of model=2, r=0.05, n=4\n",
      "Saved log of model=2, r=0.05, n=5\n",
      "Saved log of model=2, r=0.05, n=6\n",
      "Saved log of model=2, r=0.05, n=7\n",
      "Saved log of model=2, r=0.01, n=1\n",
      "Saved log of model=2, r=0.01, n=2\n",
      "Saved log of model=2, r=0.01, n=3\n",
      "Saved log of model=2, r=0.01, n=4\n",
      "Saved log of model=2, r=0.01, n=5\n",
      "Saved log of model=2, r=0.01, n=6\n",
      "Saved log of model=2, r=0.01, n=7\n",
      "Saved log of model=2, r=0.005, n=1\n",
      "Saved log of model=2, r=0.005, n=2\n",
      "Saved log of model=2, r=0.005, n=3\n",
      "Saved log of model=2, r=0.005, n=4\n",
      "Saved log of model=2, r=0.005, n=5\n",
      "Saved log of model=2, r=0.005, n=6\n",
      "Saved log of model=2, r=0.005, n=7\n",
      "Saved log of model=2, r=0.001, n=1\n",
      "Saved log of model=2, r=0.001, n=2\n",
      "Saved log of model=2, r=0.001, n=3\n",
      "Saved log of model=2, r=0.001, n=4\n",
      "Saved log of model=2, r=0.001, n=5\n",
      "Saved log of model=2, r=0.001, n=6\n",
      "Saved log of model=2, r=0.001, n=7\n",
      "Saved log of model=3, r=0.1, n=1\n",
      "Saved log of model=3, r=0.1, n=2\n",
      "Saved log of model=3, r=0.1, n=3\n",
      "Saved log of model=3, r=0.1, n=4\n",
      "Saved log of model=3, r=0.1, n=5\n",
      "Saved log of model=3, r=0.1, n=6\n",
      "Saved log of model=3, r=0.1, n=7\n",
      "Saved log of model=3, r=0.05, n=1\n"
     ]
    },
    {
     "ename": "KeyboardInterrupt",
     "evalue": "",
     "output_type": "error",
     "traceback": [
      "\u001b[0;31m---------------------------------------------------------------------------\u001b[0m",
      "\u001b[0;31mKeyboardInterrupt\u001b[0m                         Traceback (most recent call last)",
      "\u001b[0;32m<ipython-input-11-c80a9c3da6f1>\u001b[0m in \u001b[0;36m<module>\u001b[0;34m()\u001b[0m\n\u001b[1;32m      6\u001b[0m             \u001b[0mlog_name\u001b[0m \u001b[0;34m=\u001b[0m \u001b[0;34m'r={},n={}'\u001b[0m\u001b[0;34m.\u001b[0m\u001b[0mformat\u001b[0m\u001b[0;34m(\u001b[0m\u001b[0mstr\u001b[0m\u001b[0;34m(\u001b[0m\u001b[0mr\u001b[0m\u001b[0;34m)\u001b[0m\u001b[0;34m,\u001b[0m \u001b[0mstr\u001b[0m\u001b[0;34m(\u001b[0m\u001b[0mn\u001b[0m\u001b[0;34m)\u001b[0m\u001b[0;34m)\u001b[0m\u001b[0;34m\u001b[0m\u001b[0m\n\u001b[1;32m      7\u001b[0m             \u001b[0mwjnet\u001b[0m\u001b[0;34m.\u001b[0m\u001b[0mbuild_graph\u001b[0m\u001b[0;34m(\u001b[0m\u001b[0mr\u001b[0m\u001b[0;34m=\u001b[0m\u001b[0mr\u001b[0m\u001b[0;34m,\u001b[0m \u001b[0mn_h\u001b[0m\u001b[0;34m=\u001b[0m\u001b[0mn\u001b[0m\u001b[0;34m)\u001b[0m\u001b[0;34m\u001b[0m\u001b[0m\n\u001b[0;32m----> 8\u001b[0;31m             \u001b[0mwjnet\u001b[0m\u001b[0;34m.\u001b[0m\u001b[0mtrain\u001b[0m\u001b[0;34m(\u001b[0m\u001b[0msave_log\u001b[0m\u001b[0;34m=\u001b[0m\u001b[0;32mTrue\u001b[0m\u001b[0;34m,\u001b[0m \u001b[0mlog_dir\u001b[0m\u001b[0;34m=\u001b[0m\u001b[0mlog_dir\u001b[0m\u001b[0;34m,\u001b[0m \u001b[0mlog_name\u001b[0m\u001b[0;34m=\u001b[0m\u001b[0mlog_name\u001b[0m\u001b[0;34m)\u001b[0m\u001b[0;34m\u001b[0m\u001b[0m\n\u001b[0m\u001b[1;32m      9\u001b[0m             \u001b[0mprint\u001b[0m\u001b[0;34m(\u001b[0m\u001b[0;34m'Saved log of model={}, r={}, n={}'\u001b[0m\u001b[0;34m.\u001b[0m                  \u001b[0mformat\u001b[0m\u001b[0;34m(\u001b[0m\u001b[0mstr\u001b[0m\u001b[0;34m(\u001b[0m\u001b[0mmodel\u001b[0m\u001b[0;34m)\u001b[0m\u001b[0;34m,\u001b[0m \u001b[0mstr\u001b[0m\u001b[0;34m(\u001b[0m\u001b[0mr\u001b[0m\u001b[0;34m)\u001b[0m\u001b[0;34m,\u001b[0m \u001b[0mstr\u001b[0m\u001b[0;34m(\u001b[0m\u001b[0mn\u001b[0m\u001b[0;34m)\u001b[0m\u001b[0;34m)\u001b[0m\u001b[0;34m)\u001b[0m\u001b[0;34m\u001b[0m\u001b[0m\n",
      "\u001b[0;32m<ipython-input-10-77cee4c152d8>\u001b[0m in \u001b[0;36mtrain\u001b[0;34m(self, print_loss, save_log, save_model, epoch, log_dir, log_name, model_path)\u001b[0m\n\u001b[1;32m    121\u001b[0m                 index_batch = np.random.choice(\n\u001b[1;32m    122\u001b[0m                     np.arange(len(self.x_tra)), self.batch_size, replace=False)\n\u001b[0;32m--> 123\u001b[0;31m                 \u001b[0mx_tra_batch\u001b[0m \u001b[0;34m=\u001b[0m \u001b[0mself\u001b[0m\u001b[0;34m.\u001b[0m\u001b[0mx_tra\u001b[0m\u001b[0;34m[\u001b[0m\u001b[0mindex_batch\u001b[0m\u001b[0;34m]\u001b[0m\u001b[0;34m\u001b[0m\u001b[0m\n\u001b[0m\u001b[1;32m    124\u001b[0m                 \u001b[0my_tra_batch\u001b[0m \u001b[0;34m=\u001b[0m \u001b[0mself\u001b[0m\u001b[0;34m.\u001b[0m\u001b[0my_tra\u001b[0m\u001b[0;34m[\u001b[0m\u001b[0mindex_batch\u001b[0m\u001b[0;34m]\u001b[0m\u001b[0;34m\u001b[0m\u001b[0m\n\u001b[1;32m    125\u001b[0m \u001b[0;34m\u001b[0m\u001b[0m\n",
      "\u001b[0;31mKeyboardInterrupt\u001b[0m: "
     ]
    }
   ],
   "source": [
    "for model in range(1, 8):\n",
    "    wjnet = ComicNet(wj, model=model)\n",
    "    for r in [0.1, 0.05, 0.01, 0.005, 0.001]:\n",
    "        for n in range(1, 8):\n",
    "            log_dir = './logs/1/model=' + str(model)\n",
    "            log_name = 'r={},n={}'.format(str(r), str(n))\n",
    "            wjnet.build_graph(r=r, n_h=n)\n",
    "            wjnet.train(save_log=True, log_dir=log_dir, log_name=log_name)\n",
    "            print('Saved log of model={}, r={}, n={}'.\\\n",
    "                  format(str(model), str(r), str(n)))"
   ]
  },
  {
   "cell_type": "markdown",
   "metadata": {},
   "source": [
    "【タスク】以下，修正すること！\n",
    "\n",
    "TensorBoardを起動します．ここでは，`model=7`のvalidation結果を見てみます．\n",
    " \n",
    "```bash\n",
    "tensorboard --logdir=./logs/1/model=7/val\n",
    "```\n",
    "\n",
    "　指定されたURLをブラウザで開きます．\n",
    "\n",
    "![tensorboard.png](fig/tensorboard.png)\n",
    "\n",
    "　上図はvalidationデータの正解率（`acc`），下図はvalidationデータの損失関数（`loss`）を表します．横軸はエポック数を表します．凡例が多すぎてわけがわからないので，左下の`Runs`でフィルタリングします．下図は，`n=7`でフィルタリングした例です．\n",
    "\n",
    "![scalar,n=7.png](fig/scalar,n=7.png)\n",
    "\n",
    "　`r=0.001`がいい感じであることがわかります．次は，`r=0.001`でフィルタリングします．\n",
    "\n",
    "![scalar,r=0.001.png](fig/scalar,r=0.001.png)\n",
    "\n",
    "　どうやら，`model=7`に関しては，`n=7, r=0.001`が良さそうです．また，`e=5000`あたりからtrainingデータへの過学習が始まり，正解率と損失関数が悪化していることがなんとなくわかります．そこで，`model=7`に関しては，学習を5000エポックで打ち切ることにします．\n",
    " \n",
    "　上記の作業を，他のモデル（`model=1, 2,..., 6`）に関しても行い，ハイパーパラメータを最適化します．\n",
    " \n",
    " |model | $r$ | $n$ | epoch |\n",
    " |:--:|:--|:--|:--|\n",
    " "
   ]
  },
  {
   "cell_type": "markdown",
   "metadata": {},
   "source": [
    "### 学習\n",
    "\n",
    "　最適化したハイパーパラメータで，再度学習を行い，モデルを保存します．"
   ]
  },
  {
   "cell_type": "code",
   "execution_count": 52,
   "metadata": {
    "collapsed": true
   },
   "outputs": [],
   "source": [
    "!mkdir models"
   ]
  },
  {
   "cell_type": "code",
   "execution_count": 53,
   "metadata": {},
   "outputs": [
    {
     "name": "stdout",
     "output_type": "stream",
     "text": [
      "Trained ./models/model1_thesh10\n",
      "Trained ./models/model2_thesh10\n",
      "Trained ./models/model3_thesh10\n",
      "Trained ./models/model4_thesh10\n",
      "Trained ./models/model5_thesh10\n",
      "Trained ./models/model6_thesh10\n",
      "Trained ./models/model7_thesh10\n"
     ]
    }
   ],
   "source": [
    "params = [\n",
    "#    [1, 0.001, 1, 5000], [2, 0.05, 3, 5000], [3, 0.001, 5, 2000],\n",
    "#    [4, 0.005, 7, 5000], [5, 0.01, 7, 5000], [6, 0.001, 7, 3000], \n",
    "#    [7, 0.001, 7, 5000]\n",
    "]\n",
    "\n",
    "for param in params:\n",
    "    model = param[0]\n",
    "    r = param[1]\n",
    "    n = param[2]\n",
    "    epoch = param[3]\n",
    "    model_path = './models/model{}_thesh10'.format(str(model))\n",
    "    \n",
    "    wjnet = ComicNet(wj, model=model)\n",
    "    wjnet.build_graph(r=r, n_h=n)\n",
    "    wjnet.train(save_model=True, model_path=model_path, epoch=epoch)\n",
    "    print('Trained', model_path)"
   ]
  },
  {
   "cell_type": "markdown",
   "metadata": {},
   "source": [
    "### テスト\n",
    "\n",
    "　testデータで，性能を評価します．"
   ]
  },
  {
   "cell_type": "code",
   "execution_count": 54,
   "metadata": {},
   "outputs": [
    {
     "name": "stdout",
     "output_type": "stream",
     "text": [
      "Tested ./models/model1_thesh10 acc:  0.95\n",
      "Tested ./models/model2_thesh10 acc:  0.95\n",
      "Tested ./models/model3_thesh10 acc:  0.95\n",
      "Tested ./models/model4_thesh10 acc:  0.95\n",
      "Tested ./models/model5_thesh10 acc:  0.95\n",
      "Tested ./models/model6_thesh10 acc:  0.95\n",
      "Tested ./models/model7_thesh10 acc:  0.91\n"
     ]
    }
   ],
   "source": [
    "result_thresh10 = {}\n",
    "for param in params:\n",
    "    model = param[0]\n",
    "    r = param[1]\n",
    "    n = param[2]\n",
    "    model_path = './models/model{}_thesh10'.format(str(model))\n",
    "\n",
    "    wjnet = ComicNet(wj, model=model)\n",
    "    wjnet.build_graph(r=r, n_h=n)\n",
    "    result_thresh10[model] = wjnet.test(model_path=model_path)\n",
    "    print('Tested', model_path, 'acc: ', \n",
    "          str(result_thresh10[model][0]))"
   ]
  },
  {
   "cell_type": "markdown",
   "metadata": {},
   "source": [
    "　正解率95%！しかし，何か怪しい…．"
   ]
  },
  {
   "cell_type": "markdown",
   "metadata": {},
   "source": [
    "### 考察\n",
    "\n",
    "　やけに結果が良いので，testデータの出力値をヒストグラムで分析します．"
   ]
  },
  {
   "cell_type": "code",
   "execution_count": 55,
   "metadata": {},
   "outputs": [
    {
     "data": {
      "image/png": "[encoded data removed]",
      "text/plain": [
       "<matplotlib.figure.Figure at 0x7f3bec597e80>"
      ]
     },
     "metadata": {
      "image/png": {
       "height": 595,
       "width": 896
      }
     },
     "output_type": "display_data"
    }
   ],
   "source": [
    "%matplotlib inline\n",
    "%config InlineBackend.figure_format = 'retina'\n",
    "\n",
    "import matplotlib.pyplot as plt\n",
    "\n",
    "plt.figure(figsize=(15,10))\n",
    "\n",
    "for model in range(1, 8):\n",
    "    logits = result_thresh10[model][1]\n",
    "    \n",
    "    plt.subplot(4, 2, model)\n",
    "    plt.hist(logits, bins=20, normed=True)\n",
    "    plt.ylabel('Frequency')\n",
    "    plt.xlim(0,1)\n",
    "    plt.title('Model {}'.format(model))"
   ]
  },
  {
   "cell_type": "markdown",
   "metadata": {},
   "source": [
    "　横軸はtestデータの出力値，縦軸は度数を表します．出力値が0.5以上の作品は短命作品と判断されます．図から，Model 7以外は，全てのtestデータに対して「短命作品ではない」と判断していることがわかります．これは，そもそもtrainingデータ中に短命作品が稀なため，「とりあえず短命作品と判断しない方が得策」という方向に学習が進んだ結果と思われます．実際，testデータは5件しか短命作品を含まないため，この戦略は正しいです．しかし，全く面白くない結果です．"
   ]
  },
  {
   "cell_type": "code",
   "execution_count": 45,
   "metadata": {},
   "outputs": [
    {
     "data": {
      "text/plain": [
       "5"
      ]
     },
     "execution_count": 45,
     "metadata": {},
     "output_type": "execute_result"
    }
   ],
   "source": [
    "(wjnet.y_test == 1).sum()"
   ]
  },
  {
   "cell_type": "markdown",
   "metadata": {},
   "source": [
    "　そこで，全作品の掲載週の分布を確認し，より多くの作品を含むように（識別問題として面白くなるように），短命作品の定義を変更します．"
   ]
  },
  {
   "cell_type": "code",
   "execution_count": 50,
   "metadata": {},
   "outputs": [
    {
     "data": {
      "text/plain": [
       "<matplotlib.text.Text at 0x7f3b8e67f6a0>"
      ]
     },
     "execution_count": 50,
     "metadata": {},
     "output_type": "execute_result"
    },
    {
     "data": {
      "image/png": "[encoded data removed]",
      "text/plain": [
       "<matplotlib.figure.Figure at 0x7f3c105d9390>"
      ]
     },
     "metadata": {
      "image/png": {
       "height": 326,
       "width": 898
      }
     },
     "output_type": "display_data"
    }
   ],
   "source": [
    "import numpy as np\n",
    "\n",
    "weeks = [len(wj.extract_item(title))\n",
    "         for title in wj.end_titles]\n",
    "\n",
    "plt.figure(figsize=(15, 5))\n",
    "plt.subplot(1, 2, 1)\n",
    "_ = plt.hist(weeks, normed=True, cumulative=True, bins=max(weeks))\n",
    "plt.xlabel('Serialized weeks')\n",
    "plt.ylabel('CDF')\n",
    "\n",
    "plt.subplot(1, 2, 2)\n",
    "_ = plt.hist(weeks, normed=True, cumulative=True, bins=max(weeks))\n",
    "plt.xlim(0, 50)\n",
    "plt.xlabel('Serialized weeks')\n",
    "plt.ylabel('CDF')"
   ]
  },
  {
   "cell_type": "markdown",
   "metadata": {},
   "source": [
    "　どうやら，約半分の作品が20週以内に掲載を終えるようです．よって，以下では短命作品（20週以内）の予測に挑戦します．"
   ]
  },
  {
   "cell_type": "markdown",
   "metadata": {},
   "source": [
    "## 実験2. 短命作品（20週以内）の予測\n",
    "\n",
    "　`ComicNet()`の引数で`thresh_week=20`を指定する以外は，上記の実験と全く同じ手順を踏みます．\n",
    "\n",
    "### ハイパーパラメータの調整"
   ]
  },
  {
   "cell_type": "markdown",
   "metadata": {},
   "source": [
    "【タスク】\n",
    "全然思ったように学習してくれない．原因もよくわからないし．レイヤ数を少なくしたり，活性化関数を変えたり，試行錯誤中．"
   ]
  },
  {
   "cell_type": "markdown",
   "metadata": {},
   "source": [
    "　TensorBoardで分析すると，以下のハイパーパラメータを得られます．詳細は割愛します．\n",
    " \n",
    " |model | $r$ | $n$ | epoch |\n",
    " |:--|:--|:--|:--|\n"
   ]
  },
  {
   "cell_type": "markdown",
   "metadata": {},
   "source": [
    "### 学習"
   ]
  },
  {
   "cell_type": "markdown",
   "metadata": {},
   "source": [
    "### テスト"
   ]
  },
  {
   "cell_type": "markdown",
   "metadata": {},
   "source": [
    "### 考察"
   ]
  },
  {
   "cell_type": "markdown",
   "metadata": {},
   "source": [
    "## 実験3. 架空のマンガ作品の打切予測"
   ]
  },
  {
   "cell_type": "markdown",
   "metadata": {
    "collapsed": true
   },
   "source": [
    "## タスク（2017/5/21）\n",
    "\n",
    "* `ComicNet()`のメンバ関数に，データ生成用の関数も含めること．`ComicNet()`には，何も考えずにComicAnalizer()`の結果を突っ込めるようにしたい．\n",
    "* `ComicNet()`の引数に，`threash_week`を追加すること．\n",
    "* `ComicNet()`の引数に，`save`を追加すること．これは，学習結果を保存するか否かを表すフラグ．\n",
    "* 最終的には，10週終了，20週終了，30週終了の予測結果をまとめてひとつのグラフにすること．\n",
    "* 考察では，大きく外れた例を一つか２つ掲載すること．\n",
    "* `ComicEndPredictor()`というクラスを生成すること．これは，学習済みデータをそのまま使って，終了予測を行うことができるクラス．つまり，githubには学習済みクラスのsavarデータをアップする必要がある．"
   ]
  },
  {
   "cell_type": "code",
   "execution_count": null,
   "metadata": {
    "collapsed": true
   },
   "outputs": [],
   "source": []
  }
 ],
 "metadata": {
  "kernelspec": {
   "display_name": "Python 3",
   "language": "python",
   "name": "python3"
  },
  "language_info": {
   "codemirror_mode": {
    "name": "ipython",
    "version": 3
   },
   "file_extension": ".py",
   "mimetype": "text/x-python",
   "name": "python",
   "nbconvert_exporter": "python",
   "pygments_lexer": "ipython3",
   "version": "3.5.3"
  }
 },
 "nbformat": 4,
 "nbformat_minor": 2
}
