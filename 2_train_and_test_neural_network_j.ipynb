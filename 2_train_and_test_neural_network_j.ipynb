{
 "cells": [
  {
   "cell_type": "markdown",
   "metadata": {},
   "source": [
    "# 2. 短命作品の学習と予測\n",
    "\n",
    "　目次情報を学習して，短命作品を予測してみます．\n",
    "\n",
    "## 環境構築\n",
    "\n",
    "```bash\n",
    "conda env create -f env.yml\n",
    "```\n",
    "\n",
    "## モデル\n",
    "\n",
    "　以下に，本記事で想定する[多層パーセプトロン](https://en.wikipedia.org/wiki/Multilayer_perceptron)のモデルを示します．多層パーセプトロンについては，[誤差逆伝播法のノート](http://qiita.com/Ugo-Nama/items/04814a13c9ea84978a4c)が詳しいです．\n",
    "\n",
    "![model.png](fig/model.png)\n",
    "\n",
    "　本記事では，隠れ層1層の多層パーセプトロンを用います．入力層は7ノード（2週目から7週目までの掲載順と，7週目までのカラー回数），隠れ層は$n$ノード，出力層は1ノード（短命作品である確率）を含みます．隠れ層および出力層の活性化関数として，[Sigmoid関数](https://ja.wikipedia.org/wiki/%E6%B4%BB%E6%80%A7%E5%8C%96%E9%96%A2%E6%95%B0#.E3.82.B7.E3.82.B0.E3.83.A2.E3.82.A4.E3.83.89.E9.96.A2.E6.95.B0)を用います．学習に関しては，学習率として$r$，最適化アルゴリズムとして[Stochastic Gradient Descent (SGD)](https://ja.wikipedia.org/wiki/%E7%A2%BA%E7%8E%87%E7%9A%84%E5%8B%BE%E9%85%8D%E9%99%8D%E4%B8%8B%E6%B3%95#cite_note-17)あるいは[Adam](https://arxiv.org/abs/1412.6980)を用います．\n",
    " \n",
    "　本記事では，以下のハイパーパラメータを調整して，予測性能の最大化を目指します．\n",
    "\n",
    "|項目|設計空間|補足|\n",
    "|:--|:--|:--|\n",
    "|学習率（$r$）| $0 < r < 1$| 大きいほど収束が速いが，大きすぎるとうまく学習しない．|\n",
    "|隠れ層のノード数（$n$）| $\\{1, 2,...,8\\}$ |最大でも入力層＋出力層が目安？|\n",
    "|最適化アルゴリズム| {Gradient descent, Adam}| 前者はオーソドックス，Adamは新しめ．|"
   ]
  },
  {
   "cell_type": "markdown",
   "metadata": {},
   "source": [
    "図を修正すること．"
   ]
  },
  {
   "cell_type": "code",
   "execution_count": null,
   "metadata": {
    "collapsed": true
   },
   "outputs": [],
   "source": []
  }
 ],
 "metadata": {
  "kernelspec": {
   "display_name": "Python 3",
   "language": "python",
   "name": "python3"
  },
  "language_info": {
   "codemirror_mode": {
    "name": "ipython",
    "version": 3
   },
   "file_extension": ".py",
   "mimetype": "text/x-python",
   "name": "python",
   "nbconvert_exporter": "python",
   "pygments_lexer": "ipython3",
   "version": "3.5.3"
  }
 },
 "nbformat": 4,
 "nbformat_minor": 2
}
