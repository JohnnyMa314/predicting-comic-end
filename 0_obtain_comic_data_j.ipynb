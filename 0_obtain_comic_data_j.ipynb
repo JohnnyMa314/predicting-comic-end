{
 "cells": [
  {
   "cell_type": "markdown",
   "metadata": {},
   "source": [
    "# 0. Web APIを用いたマンガ雑誌データの取得\n",
    "\n",
    "[文化庁メディア芸術データベース　マンガ分野　WebAPI](https://mediaarts-db.bunka.go.jp/webapi_proto_documents.pdf)を用いて，分析に必要なデータを入手します．なお，python3を使ったweb APIの利用については，[Python3でjsonを返却するwebAPIにアクセスして結果を出力するまで](http://qiita.com/sakura1116/items/4a11a9f7db9f535397fa)を参考にさせて頂きました．\n",
    "\n",
    "## 環境構築\n",
    "\n",
    "```bash\n",
    "conda env create -f env.yml\n",
    "```\n",
    "\n",
    "## 準備"
   ]
  },
  {
   "cell_type": "code",
   "execution_count": 1,
   "metadata": {
    "collapsed": true
   },
   "outputs": [],
   "source": [
    "import json\n",
    "import urllib.request"
   ]
  },
  {
   "cell_type": "markdown",
   "metadata": {
    "collapsed": true
   },
   "source": [
    "## 雑誌巻号検索結果の取得\n",
    "\n",
    "週刊少年ジャンプの雑誌巻号情報を検索して，結果を変数`magazines`に保存します．ここで取得したユニークIDは，次節の「雑誌巻号情報の取得」に必要になります．\n",
    "\n",
    "なお，2017年3月31日より文化庁メディア芸術データベースのURLが変更されたため，[WebAPI仕様](https://mediaarts-db.bunka.go.jp/webapi_proto_documents.pdf)に記載のリクエストURL（https://mediaarts-db.jp/mg/api/v1/results_magazines　）ではなく，新しいURL（https://mediaarts-db.bunka.go.jp/mg/api/v1/results_magazines　）を使用する必要があることにご注意ください．"
   ]
  },
  {
   "cell_type": "code",
   "execution_count": 10,
   "metadata": {
    "collapsed": true
   },
   "outputs": [],
   "source": [
    "url = 'https://mediaarts-db.bunka.go.jp/mg/api/v1/results_magazines' + \\\n",
    "    '?id=JUMPrgl&page='"
   ]
  },
  {
   "cell_type": "markdown",
   "metadata": {},
   "source": [
    "リクエストパラメータ`id`で「ユニークID」「雑誌巻号ID」あるいは「雑誌コード」を，`page`で検索結果の取得ページ番号（1ページあたり100件，デフォルトは1）を指定することができます．ここで，週刊少年ジャンプは「雑誌巻号ID」に`JUMPrgl`を含むため，`id=JUMPrgl`を指定します．また，週刊少年ジャンプの検索結果は合計24ページ（2320件）あるため，`page`に1から24を順次指定する必要があります．\n",
    "詳細は[WebAPI仕様](https://mediaarts-db.bunka.go.jp/webapi_proto_documents.pdf)をご参照ください．"
   ]
  },
  {
   "cell_type": "code",
   "execution_count": 11,
   "metadata": {},
   "outputs": [],
   "source": [
    "magazines = []\n",
    "for i in range(1, 25):\n",
    "    response = urllib.request.urlopen(url + str(i))\n",
    "    content = json.loads(response.read().decode('utf8'))\n",
    "    magazines.extend(content['results'])"
   ]
  },
  {
   "cell_type": "code",
   "execution_count": 12,
   "metadata": {},
   "outputs": [
    {
     "data": {
      "text/plain": [
       "2320"
      ]
     },
     "execution_count": 12,
     "metadata": {},
     "output_type": "execute_result"
    }
   ],
   "source": [
    "len(magazines)"
   ]
  },
  {
   "cell_type": "code",
   "execution_count": 13,
   "metadata": {},
   "outputs": [
    {
     "data": {
      "text/plain": [
       "{'date_indication': '1969/11/03',\n",
       " 'id': 323270,\n",
       " 'magazine_id': 'JUMPrgl19691103',\n",
       " 'name': '週刊少年ジャンプ',\n",
       " 'number_assist': '',\n",
       " 'number_indication': '20',\n",
       " 'owner_kawasaki': 0,\n",
       " 'owner_kikuyo': 0,\n",
       " 'owner_kyoto': 1,\n",
       " 'owner_meiji': 0,\n",
       " 'owner_ndl': 0,\n",
       " 'owner_osaka': 0,\n",
       " 'publisher': '集英社',\n",
       " 'vol_num_totalval': '2巻24号(通巻35)'}"
      ]
     },
     "execution_count": 13,
     "metadata": {},
     "output_type": "execute_result"
    }
   ],
   "source": [
    "magazines[0]"
   ]
  },
  {
   "cell_type": "code",
   "execution_count": 14,
   "metadata": {},
   "outputs": [
    {
     "data": {
      "text/plain": [
       "{'date_indication': '2016/12/12',\n",
       " 'id': 475979,\n",
       " 'magazine_id': 'JUMPrgl20161212',\n",
       " 'name': '週刊少年ジャンプ',\n",
       " 'number_assist': '',\n",
       " 'number_indication': '52',\n",
       " 'owner_kawasaki': 0,\n",
       " 'owner_kikuyo': 0,\n",
       " 'owner_kyoto': 0,\n",
       " 'owner_meiji': 0,\n",
       " 'owner_ndl': 1,\n",
       " 'owner_osaka': 0,\n",
       " 'publisher': '',\n",
       " 'vol_num_totalval': '49巻48号(通巻2389)'}"
      ]
     },
     "execution_count": 14,
     "metadata": {},
     "output_type": "execute_result"
    }
   ],
   "source": [
    "magazines[-1]"
   ]
  },
  {
   "cell_type": "markdown",
   "metadata": {},
   "source": [
    "## 雑誌巻号情報の取得\n",
    "\n",
    "上記の`magazines`を用い，雑誌巻号情報を取得し，変数`comics`に保存します．\n",
    "\n",
    "上記と同様に，2017年3月31日より文化庁メディア芸術データベースのURLが変更されたため，[WebAPI仕様](https://mediaarts-db.bunka.go.jp/webapi_proto_documents.pdf)に記載のリクエストURL（https://mediaarts-db.jp/mg/api/v1/magazine　）ではなく，新しいURL（https://mediaarts-db.bunka.go.jp/mg/api/v1/magazine　）を使用する必要があることにご注意ください．"
   ]
  },
  {
   "cell_type": "code",
   "execution_count": 28,
   "metadata": {
    "collapsed": true
   },
   "outputs": [],
   "source": [
    "url = 'https://mediaarts-db.bunka.go.jp/mg/api/v1/magazine?id='"
   ]
  },
  {
   "cell_type": "code",
   "execution_count": 29,
   "metadata": {},
   "outputs": [
    {
     "data": {
      "text/plain": [
       "[{'author': '',\n",
       "  'category': '表紙',\n",
       "  'form': '',\n",
       "  'note': '4色カラー',\n",
       "  'start_page': 1.0,\n",
       "  'subtitle': '[モサ\\u3000／\\u3000どうどう野郎\\u3000／\\u3000男一匹ガキ大将]',\n",
       "  'work': '[表紙]',\n",
       "  'work_pages': 1.0},\n",
       " {'author': '永井豪とダイナミックプロ',\n",
       "  'category': 'マンガ作品',\n",
       "  'form': '',\n",
       "  'note': '4色カラー',\n",
       "  'start_page': 7.0,\n",
       "  'subtitle': '赤い嵐の巻',\n",
       "  'work': 'ハレンチ学園',\n",
       "  'work_pages': 31.0},\n",
       " {'author': 'ちばてつや',\n",
       "  'category': 'マンガ作品',\n",
       "  'form': '',\n",
       "  'note': '',\n",
       "  'start_page': 39.0,\n",
       "  'subtitle': '盗まれた金の巻',\n",
       "  'work': 'モサ',\n",
       "  'work_pages': 15.0},\n",
       " {'author': '榎本有也',\n",
       "  'category': 'マンガ作品',\n",
       "  'form': '',\n",
       "  'note': '',\n",
       "  'start_page': 54.0,\n",
       "  'subtitle': 'ゆうかい魔の巻',\n",
       "  'work': 'まんがコント55号',\n",
       "  'work_pages': 2.0},\n",
       " {'author': '川崎のぼるとカワサキプロ',\n",
       "  'category': 'マンガ作品',\n",
       "  'form': '',\n",
       "  'note': '',\n",
       "  'start_page': 56.0,\n",
       "  'subtitle': '転校生の巻',\n",
       "  'work': 'どうどう野郎',\n",
       "  'work_pages': 15.0},\n",
       " {'author': '本宮ひろ志',\n",
       "  'category': 'マンガ作品',\n",
       "  'form': '',\n",
       "  'note': '',\n",
       "  'start_page': 71.0,\n",
       "  'subtitle': '万吉仁王立ちの巻',\n",
       "  'work': '男一匹ガキ大将',\n",
       "  'work_pages': 31.0},\n",
       " {'author': '赤塚不二夫とフジオプロ',\n",
       "  'category': 'マンガ作品',\n",
       "  'form': '',\n",
       "  'note': '',\n",
       "  'start_page': 103.0,\n",
       "  'subtitle': 'ゲバゲバ兄弟',\n",
       "  'work': '赤塚ギャグ笑待席',\n",
       "  'work_pages': 15.0},\n",
       " {'author': '南田鹿兵',\n",
       "  'category': 'マンガ作品',\n",
       "  'form': '',\n",
       "  'note': '',\n",
       "  'start_page': 118.0,\n",
       "  'subtitle': 'スポーツの秋\\u3000／\\u3000味覚の秋\\u3000／\\u3000ラムダロケットまたしっぱい\\u3000／\\u3000あみものの季節',\n",
       "  'work': '鹿兵のケラケラ日記',\n",
       "  'work_pages': 2.0},\n",
       " {'author': 'ジョージ秋山',\n",
       "  'category': 'マンガ作品',\n",
       "  'form': '',\n",
       "  'note': '',\n",
       "  'start_page': 120.0,\n",
       "  'subtitle': '救世主誕生の巻',\n",
       "  'work': 'デロリンマン',\n",
       "  'work_pages': 15.0},\n",
       " {'author': '池上遼一',\n",
       "  'category': 'マンガ作品',\n",
       "  'form': '',\n",
       "  'note': '',\n",
       "  'start_page': 135.0,\n",
       "  'subtitle': 'くずれる顔',\n",
       "  'work': '黄金仮面',\n",
       "  'work_pages': 31.0},\n",
       " {'author': '下村風介',\n",
       "  'category': 'マンガ作品',\n",
       "  'form': '',\n",
       "  'note': '',\n",
       "  'start_page': 167.0,\n",
       "  'subtitle': '',\n",
       "  'work': '風の中のオレ',\n",
       "  'work_pages': 31.0},\n",
       " {'author': '南波健二\\u3000／\\u3000[協力]南波健二プロダクション',\n",
       "  'category': 'マンガ作品',\n",
       "  'form': '',\n",
       "  'note': '',\n",
       "  'start_page': 199.0,\n",
       "  'subtitle': '',\n",
       "  'work': '地獄で怒れ!',\n",
       "  'work_pages': 31.0},\n",
       " {'author': 'おだ辰夫',\n",
       "  'category': 'マンガ作品',\n",
       "  'form': '',\n",
       "  'note': '',\n",
       "  'start_page': 231.0,\n",
       "  'subtitle': '',\n",
       "  'work': 'フクメンくん',\n",
       "  'work_pages': 15.0},\n",
       " {'author': '',\n",
       "  'category': '特集記事',\n",
       "  'form': '',\n",
       "  'note': '',\n",
       "  'start_page': 246.0,\n",
       "  'subtitle': '',\n",
       "  'work': 'ハレハレ笑学校',\n",
       "  'work_pages': 2.0},\n",
       " {'author': '梅本さちお',\n",
       "  'category': 'マンガ作品',\n",
       "  'form': '',\n",
       "  'note': '',\n",
       "  'start_page': 248.0,\n",
       "  'subtitle': 'おれは挑戦する!の巻①',\n",
       "  'work': '挑戦者ケーン',\n",
       "  'work_pages': 15.0},\n",
       " {'author': '貝塚ひろし',\n",
       "  'category': 'マンガ作品',\n",
       "  'form': '',\n",
       "  'note': '',\n",
       "  'start_page': 263.0,\n",
       "  'subtitle': 'はばたく隼人の巻',\n",
       "  'work': '父の魂',\n",
       "  'work_pages': 28.0}]"
      ]
     },
     "execution_count": 29,
     "metadata": {},
     "output_type": "execute_result"
    }
   ],
   "source": [
    "response = urllib.request.urlopen(url + str(magazines[0]['id']))\n",
    "content = json.loads(response.read().decode('utf8'))\n",
    "content['contents']"
   ]
  },
  {
   "cell_type": "markdown",
   "metadata": {},
   "source": [
    "とりあえずこれで，必要な情報は取り出せそう．あとは，`wj.json`と整合するように加工するのみ．\n",
    "一括書き込みではなく，逐次書き込みができるようにしたい．jsonで書き込まず，テキストとしてベタ打ちするのもひとつの手かもしれない．まずは，json.dumpで逐次書き込みができるか，試してみること．ダメだったらテキストとして書き込む．"
   ]
  },
  {
   "cell_type": "code",
   "execution_count": null,
   "metadata": {
    "collapsed": true
   },
   "outputs": [],
   "source": []
  }
 ],
 "metadata": {
  "kernelspec": {
   "display_name": "Python 3",
   "language": "python",
   "name": "python3"
  },
  "language_info": {
   "codemirror_mode": {
    "name": "ipython",
    "version": 3
   },
   "file_extension": ".py",
   "mimetype": "text/x-python",
   "name": "python",
   "nbconvert_exporter": "python",
   "pygments_lexer": "ipython3",
   "version": "3.5.3"
  }
 },
 "nbformat": 4,
 "nbformat_minor": 2
}
